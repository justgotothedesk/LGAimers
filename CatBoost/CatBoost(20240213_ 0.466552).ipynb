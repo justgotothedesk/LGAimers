{
 "cells": [
  {
   "cell_type": "code",
   "execution_count": 2,
   "id": "a5336550",
   "metadata": {},
   "outputs": [
    {
     "name": "stdout",
     "output_type": "stream",
     "text": [
      "Defaulting to user installation because normal site-packages is not writeable\n",
      "Collecting catboost\n",
      "  Downloading catboost-1.2.2-cp310-cp310-manylinux2014_x86_64.whl (98.7 MB)\n",
      "\u001b[2K     \u001b[90m━━━━━━━━━━━━━━━━━━━━━━━━━━━━━━━━━━━━━━━━\u001b[0m \u001b[32m98.7/98.7 MB\u001b[0m \u001b[31m17.1 MB/s\u001b[0m eta \u001b[36m0:00:00\u001b[0m00:01\u001b[0m00:01\u001b[0m\n",
      "\u001b[?25hCollecting plotly\n",
      "  Downloading plotly-5.18.0-py3-none-any.whl (15.6 MB)\n",
      "\u001b[2K     \u001b[90m━━━━━━━━━━━━━━━━━━━━━━━━━━━━━━━━━━━━━━━━\u001b[0m \u001b[32m15.6/15.6 MB\u001b[0m \u001b[31m67.9 MB/s\u001b[0m eta \u001b[36m0:00:00\u001b[0m00:01\u001b[0m00:01\u001b[0m\n",
      "\u001b[?25hRequirement already satisfied: six in ./.local/lib/python3.10/site-packages (from catboost) (1.16.0)\n",
      "Requirement already satisfied: matplotlib in ./.local/lib/python3.10/site-packages (from catboost) (3.8.2)\n",
      "Requirement already satisfied: scipy in ./.local/lib/python3.10/site-packages (from catboost) (1.11.4)\n",
      "Requirement already satisfied: pandas>=0.24 in ./.local/lib/python3.10/site-packages (from catboost) (2.1.4)\n",
      "Collecting graphviz\n",
      "  Downloading graphviz-0.20.1-py3-none-any.whl (47 kB)\n",
      "\u001b[2K     \u001b[90m━━━━━━━━━━━━━━━━━━━━━━━━━━━━━━━━━━━━━━━━\u001b[0m \u001b[32m47.0/47.0 kB\u001b[0m \u001b[31m10.6 MB/s\u001b[0m eta \u001b[36m0:00:00\u001b[0m\n",
      "\u001b[?25hRequirement already satisfied: numpy>=1.16.0 in ./.local/lib/python3.10/site-packages (from catboost) (1.23.5)\n",
      "Requirement already satisfied: python-dateutil>=2.8.2 in ./.local/lib/python3.10/site-packages (from pandas>=0.24->catboost) (2.8.2)\n",
      "Requirement already satisfied: tzdata>=2022.1 in ./.local/lib/python3.10/site-packages (from pandas>=0.24->catboost) (2023.4)\n",
      "Requirement already satisfied: pytz>=2020.1 in ./.local/lib/python3.10/site-packages (from pandas>=0.24->catboost) (2023.3.post1)\n",
      "Requirement already satisfied: contourpy>=1.0.1 in ./.local/lib/python3.10/site-packages (from matplotlib->catboost) (1.2.0)\n",
      "Requirement already satisfied: cycler>=0.10 in ./.local/lib/python3.10/site-packages (from matplotlib->catboost) (0.12.1)\n",
      "Requirement already satisfied: fonttools>=4.22.0 in ./.local/lib/python3.10/site-packages (from matplotlib->catboost) (4.47.2)\n",
      "Requirement already satisfied: pillow>=8 in ./.local/lib/python3.10/site-packages (from matplotlib->catboost) (10.2.0)\n",
      "Requirement already satisfied: pyparsing>=2.3.1 in ./.local/lib/python3.10/site-packages (from matplotlib->catboost) (3.1.1)\n",
      "Requirement already satisfied: packaging>=20.0 in ./.local/lib/python3.10/site-packages (from matplotlib->catboost) (23.2)\n",
      "Requirement already satisfied: kiwisolver>=1.3.1 in ./.local/lib/python3.10/site-packages (from matplotlib->catboost) (1.4.5)\n",
      "Collecting tenacity>=6.2.0\n",
      "  Downloading tenacity-8.2.3-py3-none-any.whl (24 kB)\n",
      "Installing collected packages: tenacity, graphviz, plotly, catboost\n",
      "Successfully installed catboost-1.2.2 graphviz-0.20.1 plotly-5.18.0 tenacity-8.2.3\n",
      "\n",
      "\u001b[1m[\u001b[0m\u001b[34;49mnotice\u001b[0m\u001b[1;39;49m]\u001b[0m\u001b[39;49m A new release of pip is available: \u001b[0m\u001b[31;49m23.0.1\u001b[0m\u001b[39;49m -> \u001b[0m\u001b[32;49m24.0\u001b[0m\n",
      "\u001b[1m[\u001b[0m\u001b[34;49mnotice\u001b[0m\u001b[1;39;49m]\u001b[0m\u001b[39;49m To update, run: \u001b[0m\u001b[32;49mpip install --upgrade pip\u001b[0m\n"
     ]
    }
   ],
   "source": [
    "!pip install catboost"
   ]
  },
  {
   "cell_type": "code",
   "execution_count": 3,
   "id": "f0a7598c",
   "metadata": {},
   "outputs": [],
   "source": [
    "import pandas as pd\n",
    "import numpy as np\n",
    "from catboost import CatBoostClassifier\n",
    "from sklearn.model_selection import train_test_split\n",
    "from sklearn.preprocessing import FunctionTransformer\n",
    "from sklearn.compose import ColumnTransformer\n",
    "from sklearn.pipeline import Pipeline\n",
    "from sklearn.impute import SimpleImputer\n",
    "from sklearn.preprocessing import StandardScaler, OneHotEncoder\n",
    "from sklearn.metrics import (\n",
    "    accuracy_score,\n",
    "    confusion_matrix,\n",
    "    f1_score,\n",
    "    precision_score,\n",
    "    recall_score,\n",
    "    classification_report\n",
    ")"
   ]
  },
  {
   "cell_type": "code",
   "execution_count": 4,
   "id": "1bc4cb18",
   "metadata": {},
   "outputs": [],
   "source": [
    "df_train = pd.read_csv(\"train.csv\") # 학습용 데이터\n",
    "df_test = pd.read_csv(\"submission.csv\") # 테스트 데이터(제출파일의 데이터)"
   ]
  },
  {
   "cell_type": "code",
   "execution_count": 5,
   "id": "fbe25c1f",
   "metadata": {},
   "outputs": [],
   "source": [
    "def label_encoding(series: pd.Series) -> pd.Series:\n",
    "    my_dict = {}\n",
    "\n",
    "    series = series.astype(str)\n",
    "\n",
    "    for idx, value in enumerate(sorted(series.unique())):\n",
    "        my_dict[value] = idx\n",
    "    series = series.map(my_dict)\n",
    "\n",
    "    return series"
   ]
  },
  {
   "cell_type": "code",
   "execution_count": 6,
   "id": "2bf642fc",
   "metadata": {},
   "outputs": [],
   "source": [
    "label_columns = [\n",
    "    \"customer_country\",\n",
    "    \"business_subarea\",\n",
    "    \"business_area\",\n",
    "    \"business_unit\",\n",
    "    \"customer_type\",\n",
    "    \"enterprise\",\n",
    "    \"customer_job\",\n",
    "    \"inquiry_type\",\n",
    "    \"product_category\",\n",
    "    \"product_subcategory\",\n",
    "    \"product_modelname\",\n",
    "    \"customer_country.1\",\n",
    "    \"customer_position\",\n",
    "    \"response_corporate\",\n",
    "    \"expected_timeline\",\n",
    "]"
   ]
  },
  {
   "cell_type": "code",
   "execution_count": 7,
   "id": "ae8dc866",
   "metadata": {},
   "outputs": [],
   "source": [
    "df_train.drop(['id_strategic_ver', 'it_strategic_ver', 'idit_strategic_ver', 'com_reg_ver_win_rate'], axis=1, inplace=True)\n",
    "df_test.drop(['id_strategic_ver', 'it_strategic_ver', 'idit_strategic_ver', 'com_reg_ver_win_rate'], axis=1, inplace=True)"
   ]
  },
  {
   "cell_type": "code",
   "execution_count": 8,
   "id": "d9693eae",
   "metadata": {},
   "outputs": [],
   "source": [
    "df_all = pd.concat([df_train[label_columns], df_test[label_columns]])\n",
    "\n",
    "for col in label_columns:\n",
    "    df_all[col] = label_encoding(df_all[col])\n",
    "\n",
    "for col in label_columns:\n",
    "    df_train[col] = df_all.iloc[:len(df_train)][col]\n",
    "    df_test[col] = df_all.iloc[len(df_train):][col]"
   ]
  },
  {
   "cell_type": "code",
   "execution_count": 9,
   "id": "5fd50a19",
   "metadata": {},
   "outputs": [],
   "source": [
    "def fill_country_from_response(row):\n",
    "    if pd.isnull(row['customer_country']):\n",
    "        return country_mapping.get(row['response_corporate'], row['customer_country'])\n",
    "    else:\n",
    "        return row['customer_country']\n",
    "\n",
    "country_mapping = {\n",
    "    'LGEIL': 'India',\n",
    "    'LGESP': 'Spain',\n",
    "    'LGEUS': 'United States',\n",
    "    'LGEMS': 'Malaysia',\n",
    "    'LGEPH': 'Philippines',\n",
    "    'LGEGF': 'France',\n",
    "    'LGECB': 'Cameroon',\n",
    "    'LGEUK': 'United Kingdom',\n",
    "    'LGESJ': 'Saudi Arabia',\n",
    "    'LGECL': 'Chile',\n",
    "    'LGEPS': 'Slovenia',\n",
    "    'LGEIS': 'Iceland',\n",
    "    'LGEPR': 'Puerto Rico',\n",
    "    'LGEDG': 'Algeria',\n",
    "    'LGEPL': 'Poland',\n",
    "    'LGEEG': 'Egypt',\n",
    "    'LGEVH': 'Venezuela',\n",
    "    'LGEES': 'Spain',\n",
    "    'LGETK': 'Turkey',\n",
    "    'LGEAR': 'Argentina',\n",
    "    'LGEKR': 'South Korea',\n",
    "    'LGEHK': 'Hong Kong',\n",
    "    'LGEAP': 'United Arab Emirates',\n",
    "    'LGESL': 'Slovakia',\n",
    "    'LGEMK': 'Malta',\n",
    "    'LGEFS': 'French Southern and Antarctic Lands',\n",
    "    'LGEAF': 'Afghanistan',\n",
    "    'LGEIN': 'India',\n",
    "    'LGELF': 'Luxembourg',\n",
    "    'LGESA': 'Samoa',\n",
    "    'LGECI': 'Ivory Coast',\n",
    "    'LGETH': 'Thailand',\n",
    "    'LGEEF': 'Eswatini',\n",
    "    'LGEPT': 'Portugal',\n",
    "    'LGEML': 'Maldives',\n",
    "    'LGEBN': 'Brunei',\n",
    "    'LGEYK': 'Yemen',\n",
    "    'LGECH': 'Switzerland',\n",
    "    'LGEHS': 'Australia',\n",
    "    'LGETT': 'Trinidad and Tobago',\n",
    "    'LGEJP': 'Japan',\n",
    "    'LGEAS': 'Asian',\n",
    "    'LGESW': 'Sweden',\n",
    "    'LGEMC': 'Montenegro',\n",
    "    'LGERO': 'Romania',\n",
    "    'LGEEB': 'Brunei',\n",
    "    'LGERA': 'Argentina',\n",
    "    'LGEAG': 'Angola',\n",
    "    'LGECZ': 'Czech Republic',\n",
    "    'LGELA': 'Laos',\n",
    "    'LGEIR': 'Ireland',\n",
    "    'LGEBT': 'Bhutan',\n",
    "    'LGEUR': 'European Union'\n",
    "}"
   ]
  },
  {
   "cell_type": "code",
   "execution_count": 10,
   "id": "d13f71f1",
   "metadata": {},
   "outputs": [],
   "source": [
    "df_train['customer_country'] = df_train.apply(fill_country_from_response, axis=1)\n",
    "df_train['inquiry_type'].fillna('request for partnership', inplace=True)\n",
    "df_train['business_area'].fillna('Unknown', inplace=True)\n",
    "df_train['expected_timeline'] = df_train['expected_timeline'].fillna('nan').apply(lambda x: str(x).split()[0].lower())\n",
    "# df_train['customer_type'].fillna(pd.Series(np.random.choice(['Specifier/Influencer', 'Unknown'], p=[0.3, 0.7], size=len(df_train))), inplace=True)\n",
    "df_train['customer_type'].fillna('Unknown', inplace=True)\n",
    "df_train['customer_job'].fillna('Unknown', inplace=True)\n",
    "# df_train['product_category'].fillna(pd.Series(np.random.choice(['interactive digital board', 'Unknown'], p=[0.5, 0.5], size=len(df_train))), inplace=True)\n",
    "df_train['product_category'].fillna('Unknown', inplace=True)"
   ]
  },
  {
   "cell_type": "code",
   "execution_count": 11,
   "id": "5a9269e1",
   "metadata": {},
   "outputs": [],
   "source": [
    "x_train, x_val, y_train, y_val = train_test_split(\n",
    "    df_train.drop(\"is_converted\", axis=1),\n",
    "    df_train[\"is_converted\"],\n",
    "    test_size=0.2,\n",
    "    shuffle=True,\n",
    "    random_state=400,\n",
    ")"
   ]
  },
  {
   "cell_type": "code",
   "execution_count": 12,
   "id": "3a8b2333",
   "metadata": {},
   "outputs": [],
   "source": [
    "numeric_features = df_train.select_dtypes(include=['int64', 'float64']).columns\n",
    "categorical_features = df_train.select_dtypes(include=['object']).columns\n",
    "\n",
    "numeric_transformer = Pipeline(steps=[\n",
    "    ('imputer', SimpleImputer(strategy='median')),\n",
    "    ('scaler', StandardScaler())\n",
    "])\n",
    "\n",
    "categorical_transformer = Pipeline(steps=[\n",
    "    ('imputer', SimpleImputer(strategy='most_frequent')),\n",
    "    ('onehot', OneHotEncoder(handle_unknown='ignore'))\n",
    "])\n",
    "\n",
    "preprocessor = ColumnTransformer(\n",
    "    transformers=[\n",
    "        ('num', numeric_transformer, numeric_features),\n",
    "        ('cat', categorical_transformer, categorical_features)\n",
    "    ])"
   ]
  },
  {
   "cell_type": "code",
   "execution_count": 16,
   "id": "82e0c505",
   "metadata": {},
   "outputs": [],
   "source": [
    "catboost_model = CatBoostClassifier(verbose=0, iterations=1000, depth=6, learning_rate=0.1, loss_function='Logloss')\n",
    "\n",
    "pipeline = Pipeline(steps=[\n",
    "    ('preprocessor', preprocessor),\n",
    "    ('classifier', catboost_model)\n",
    "])\n",
    "\n",
    "pipeline.fit(x_train, y_train)\n",
    "\n",
    "y_val_pred = pipeline.predict(x_val)"
   ]
  },
  {
   "cell_type": "code",
   "execution_count": 18,
   "id": "065803e4",
   "metadata": {},
   "outputs": [
    {
     "name": "stdout",
     "output_type": "stream",
     "text": [
      "Classification Report:\n",
      "               precision    recall  f1-score   support\n",
      "\n",
      "       False       0.98      0.99      0.99     10913\n",
      "        True       0.91      0.75      0.82       947\n",
      "\n",
      "    accuracy                           0.97     11860\n",
      "   macro avg       0.95      0.87      0.90     11860\n",
      "weighted avg       0.97      0.97      0.97     11860\n",
      "\n",
      "오차행렬:\n",
      " [[  708   239]\n",
      " [   68 10845]]\n",
      "\n",
      "정확도: 0.9741\n",
      "정밀도: 0.9124\n",
      "재현율: 0.7476\n",
      "F1: 0.8218\n"
     ]
    }
   ],
   "source": [
    "y_val_pred = np.array([True if pred == 'True' else False for pred in y_val_pred])\n",
    "\n",
    "print(\"Classification Report:\\n\", classification_report(y_val, y_val_pred))\n",
    "print(\"오차행렬:\\n\", confusion_matrix(y_val, y_val_pred, labels=[True, False]))\n",
    "print(\"\\n정확도: {:.4f}\".format(accuracy_score(y_val, y_val_pred)))\n",
    "print(\"정밀도: {:.4f}\".format(precision_score(y_val, y_val_pred, labels=[True, False])))\n",
    "print(\"재현율: {:.4f}\".format(recall_score(y_val, y_val_pred)))\n",
    "print(\"F1: {:.4f}\".format(f1_score(y_val, y_val_pred, labels=[True, False])))"
   ]
  },
  {
   "cell_type": "code",
   "execution_count": 19,
   "id": "2d2b54c0",
   "metadata": {},
   "outputs": [],
   "source": [
    "x_test = df_test.drop([\"is_converted\", \"id\"], axis=1)"
   ]
  },
  {
   "cell_type": "code",
   "execution_count": 20,
   "id": "51dbdf4e",
   "metadata": {},
   "outputs": [],
   "source": [
    "x_test['customer_country'] = df_train.apply(fill_country_from_response, axis=1)\n",
    "x_test['inquiry_type'].fillna('request for partnership', inplace=True)\n",
    "x_test['business_area'].fillna('Unknown', inplace=True)\n",
    "x_test['expected_timeline'] = df_train['expected_timeline'].fillna('nan').apply(lambda x: str(x).split()[0].lower())\n",
    "# x_test['customer_type'].fillna(pd.Series(np.random.choice(['Specifier/Influencer', 'Unknown'], p=[0.3, 0.7], size=len(x_test))), inplace=True)\n",
    "x_test['customer_type'].fillna('Unknown', inplace=True)\n",
    "x_test['customer_job'].fillna('Unknown', inplace=True)\n",
    "# x_test['product_category'].fillna(pd.Series(np.random.choice(['interactive digital board', 'Unknown'], p=[0.5, 0.5], size=len(x_test))), inplace=True)\n",
    "x_test['product_category'].fillna('Unknown', inplace=True)"
   ]
  },
  {
   "cell_type": "code",
   "execution_count": 23,
   "id": "6a9cb275",
   "metadata": {},
   "outputs": [
    {
     "data": {
      "text/plain": [
       "589"
      ]
     },
     "execution_count": 23,
     "metadata": {},
     "output_type": "execute_result"
    }
   ],
   "source": [
    "test_pred = pipeline.predict(x_test)\n",
    "test_pred = np.array([True if pred == 'True' else False for pred in test_pred])\n",
    "\n",
    "sum(test_pred) # True로 예측된 개수"
   ]
  },
  {
   "cell_type": "code",
   "execution_count": 24,
   "id": "083d413a",
   "metadata": {},
   "outputs": [],
   "source": [
    "df_sub = pd.read_csv(\"submission.csv\")\n",
    "df_sub[\"is_converted\"] = test_pred\n",
    "\n",
    "# 제출 파일 저장\n",
    "df_sub.to_csv(\"submission.csv\", index=False)\n"
   ]
  }
 ],
 "metadata": {
  "kernelspec": {
   "display_name": "Python 3 (ipykernel)",
   "language": "python",
   "name": "python3"
  },
  "language_info": {
   "codemirror_mode": {
    "name": "ipython",
    "version": 3
   },
   "file_extension": ".py",
   "mimetype": "text/x-python",
   "name": "python",
   "nbconvert_exporter": "python",
   "pygments_lexer": "ipython3",
   "version": "3.10.13"
  }
 },
 "nbformat": 4,
 "nbformat_minor": 5
}
