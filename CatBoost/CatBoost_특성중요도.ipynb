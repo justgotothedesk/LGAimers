{
  "cells": [
    {
      "cell_type": "code",
      "source": [
        "!pip install catboost"
      ],
      "metadata": {
        "colab": {
          "base_uri": "https://localhost:8080/"
        },
        "id": "Gu1HtHgRwSIy",
        "outputId": "46ea7f5b-c7a6-470a-922a-d2c0ad6f6591"
      },
      "execution_count": 46,
      "outputs": [
        {
          "output_type": "stream",
          "name": "stdout",
          "text": [
            "Requirement already satisfied: catboost in /usr/local/lib/python3.10/dist-packages (1.2.2)\n",
            "Requirement already satisfied: graphviz in /usr/local/lib/python3.10/dist-packages (from catboost) (0.20.1)\n",
            "Requirement already satisfied: matplotlib in /usr/local/lib/python3.10/dist-packages (from catboost) (3.7.1)\n",
            "Requirement already satisfied: numpy>=1.16.0 in /usr/local/lib/python3.10/dist-packages (from catboost) (1.25.2)\n",
            "Requirement already satisfied: pandas>=0.24 in /usr/local/lib/python3.10/dist-packages (from catboost) (1.5.3)\n",
            "Requirement already satisfied: scipy in /usr/local/lib/python3.10/dist-packages (from catboost) (1.11.4)\n",
            "Requirement already satisfied: plotly in /usr/local/lib/python3.10/dist-packages (from catboost) (5.15.0)\n",
            "Requirement already satisfied: six in /usr/local/lib/python3.10/dist-packages (from catboost) (1.16.0)\n",
            "Requirement already satisfied: python-dateutil>=2.8.1 in /usr/local/lib/python3.10/dist-packages (from pandas>=0.24->catboost) (2.8.2)\n",
            "Requirement already satisfied: pytz>=2020.1 in /usr/local/lib/python3.10/dist-packages (from pandas>=0.24->catboost) (2023.4)\n",
            "Requirement already satisfied: contourpy>=1.0.1 in /usr/local/lib/python3.10/dist-packages (from matplotlib->catboost) (1.2.0)\n",
            "Requirement already satisfied: cycler>=0.10 in /usr/local/lib/python3.10/dist-packages (from matplotlib->catboost) (0.12.1)\n",
            "Requirement already satisfied: fonttools>=4.22.0 in /usr/local/lib/python3.10/dist-packages (from matplotlib->catboost) (4.49.0)\n",
            "Requirement already satisfied: kiwisolver>=1.0.1 in /usr/local/lib/python3.10/dist-packages (from matplotlib->catboost) (1.4.5)\n",
            "Requirement already satisfied: packaging>=20.0 in /usr/local/lib/python3.10/dist-packages (from matplotlib->catboost) (23.2)\n",
            "Requirement already satisfied: pillow>=6.2.0 in /usr/local/lib/python3.10/dist-packages (from matplotlib->catboost) (9.4.0)\n",
            "Requirement already satisfied: pyparsing>=2.3.1 in /usr/local/lib/python3.10/dist-packages (from matplotlib->catboost) (3.1.1)\n",
            "Requirement already satisfied: tenacity>=6.2.0 in /usr/local/lib/python3.10/dist-packages (from plotly->catboost) (8.2.3)\n"
          ]
        }
      ]
    },
    {
      "cell_type": "code",
      "source": [
        "import pandas as pd\n",
        "import numpy as np\n",
        "import torch\n",
        "from transformers import BertTokenizer, BertForSequenceClassification\n",
        "from catboost import CatBoostClassifier\n",
        "from sklearn.model_selection import train_test_split\n",
        "from sklearn.preprocessing import FunctionTransformer\n",
        "from sklearn.compose import ColumnTransformer\n",
        "from sklearn.pipeline import Pipeline\n",
        "from sklearn.impute import SimpleImputer\n",
        "from sklearn.preprocessing import StandardScaler, OneHotEncoder\n",
        "from sklearn.preprocessing import StandardScaler, MinMaxScaler\n",
        "from sklearn.metrics import (\n",
        "    accuracy_score,\n",
        "    confusion_matrix,\n",
        "    f1_score,\n",
        "    precision_score,\n",
        "    recall_score,\n",
        "    classification_report\n",
        ")"
      ],
      "metadata": {
        "id": "XIMlP5dgSgIR"
      },
      "execution_count": 47,
      "outputs": []
    },
    {
      "cell_type": "code",
      "source": [
        "# Mount Google Drive if using Google Colab\n",
        "from google.colab import drive\n",
        "drive.mount('/content/drive')\n",
        "\n",
        "# Load datasets\n",
        "train_file_path = '/content/drive/MyDrive/LGdata/train.csv'\n",
        "test_file_path = '/content/drive/MyDrive/LGdata/submission.csv'\n",
        "df_train = pd.read_csv(train_file_path)\n",
        "df_test = pd.read_csv(test_file_path)"
      ],
      "metadata": {
        "colab": {
          "base_uri": "https://localhost:8080/"
        },
        "id": "w3QVYqEdSph1",
        "outputId": "734412ad-c2a9-44c0-af66-1f0f65939219"
      },
      "execution_count": 48,
      "outputs": [
        {
          "output_type": "stream",
          "name": "stdout",
          "text": [
            "Drive already mounted at /content/drive; to attempt to forcibly remount, call drive.mount(\"/content/drive\", force_remount=True).\n"
          ]
        }
      ]
    },
    {
      "cell_type": "code",
      "source": [
        "# Drop unnecessary columns\n",
        "drop_col = ['customer_country.1', 'customer_country', 'id_strategic_ver', 'it_strategic_ver', 'idit_strategic_ver']\n",
        "df_train.drop(drop_col, axis=1, inplace=True)\n",
        "df_test.drop(drop_col, axis=1, inplace=True)"
      ],
      "metadata": {
        "id": "A40XqoH2Su5M"
      },
      "execution_count": 49,
      "outputs": []
    },
    {
      "cell_type": "code",
      "source": [
        "label_columns = list(df_train.columns)\n",
        "\n",
        "label_columns.remove(\"is_converted\")"
      ],
      "metadata": {
        "id": "TOwz7c7Z6YsZ"
      },
      "execution_count": 50,
      "outputs": []
    },
    {
      "cell_type": "code",
      "source": [
        "'''\n",
        "# 수치형 변수 전체 Standardizaiton, Normalization 실행\n",
        "'''\n",
        "# Initialize scalers\n",
        "scaler_standard = StandardScaler()\n",
        "scaler_minmax = MinMaxScaler()\n",
        "columns_to_ST = [\"com_reg_ver_win_rate\", \"historical_existing_cnt\",\"lead_desc_length\"]\n",
        "columns_to_NM = [\"ver_win_rate_x\", \"ver_win_ratio_per_bu\"]\n",
        "\n",
        "# Apply Standardization to each column\n",
        "for column in columns_to_ST:\n",
        "    # Standardization\n",
        "    df_train[column + '_standardized'] = scaler_standard.fit_transform(df_train[[column]])\n",
        "    df_test[column + '_standardized'] = scaler_standard.fit_transform(df_test[[column]])\n",
        "    # Drop the original column\n",
        "    df_train.drop(columns=[column], inplace=True)\n",
        "    df_test.drop(columns=[column], inplace=True)\n",
        "\n",
        "# Apply Standardization to each column\n",
        "for column in columns_to_NM:\n",
        "    # Normalization\n",
        "    df_train[column + '_normalized'] = scaler_minmax.fit_transform(df_train[[column]])\n",
        "    df_test[column + '_normalized'] = scaler_minmax.fit_transform(df_test[[column]])\n",
        "    # Drop the original column\n",
        "    df_train.drop(columns=[column], inplace=True)\n",
        "    df_test.drop(columns=[column], inplace=True)"
      ],
      "metadata": {
        "id": "h-yf3fs4Sv6J"
      },
      "execution_count": 51,
      "outputs": []
    },
    {
      "cell_type": "code",
      "source": [
        "'''\n",
        "# business_area 날리고 2개 피처 추가\n",
        "'''\n",
        "def is_hospital(value):\n",
        "    if value == \"hospital & health care\":\n",
        "        return 1\n",
        "    else:\n",
        "        return 0\n",
        "\n",
        "def is_power(value):\n",
        "    if value == \"power plant / renewable energy\":\n",
        "        return 1\n",
        "    else:\n",
        "        return 0\n",
        "\n",
        "# \"business_area\" 열에서 함수를 적용하여 새로운 열 생성\n",
        "df_train['is_hospital'] = df_train['business_area'].apply(is_hospital)\n",
        "df_train['is_power'] = df_train['business_area'].apply(is_hospital)\n",
        "df_test['is_hospital'] = df_test['business_area'].apply(is_hospital)\n",
        "df_test['is_power'] = df_test['business_area'].apply(is_hospital)"
      ],
      "metadata": {
        "id": "EQj09IbWS018"
      },
      "execution_count": 52,
      "outputs": []
    },
    {
      "cell_type": "code",
      "source": [
        "'''\n",
        "# expected_timeline 에서 특정 단어 필터링\n",
        "'''\n",
        "# 새로운 열을 추가하기 위한 함수 정의\n",
        "def contains_budget(value):\n",
        "    if 'budget' in str(value).lower():  # 대소문자 구분없이 'budget'이 포함되어 있는지 확인\n",
        "        return 1\n",
        "    else:\n",
        "        return 0\n",
        "\n",
        "# \"expected_timeline\" 열에서 함수를 적용하여 새로운 열 생성\n",
        "df_train['contains_budget'] = df_train['expected_timeline'].apply(contains_budget)\n",
        "df_test['contains_budget'] = df_test['expected_timeline'].apply(contains_budget)\n",
        "\n",
        "# 새로운 열을 추가하기 위한 함수 정의\n",
        "def contains_etc(value):\n",
        "    if 'etc' in str(value).lower():  # 대소문자 구분없이 'budget'이 포함되어 있는지 확인\n",
        "        return 1\n",
        "    else:\n",
        "        return 0\n",
        "\n",
        "# \"expected_timeline\" 열에서 함수를 적용하여 새로운 열 생성\n",
        "df_train['contains_etc'] = df_train['expected_timeline'].apply(contains_etc)\n",
        "df_test['contains_etc'] = df_test['expected_timeline'].apply(contains_etc)\n",
        "\n",
        "# 새로운 열을 추가하기 위한 함수 정의\n",
        "def contains_hence(value):\n",
        "    if 'hence' in str(value).lower():  # 대소문자 구분없이 'budget'이 포함되어 있는지 확인\n",
        "        return 1\n",
        "    else:\n",
        "        return 0\n",
        "\n",
        "# \"expected_timeline\" 열에서 함수를 적용하여 새로운 열 생성\n",
        "df_train['contains_hence'] = df_train['expected_timeline'].apply(contains_hence)\n",
        "df_test['contains_hence'] = df_test['expected_timeline'].apply(contains_hence)"
      ],
      "metadata": {
        "id": "P9EBooKN6hP1"
      },
      "execution_count": 53,
      "outputs": []
    },
    {
      "cell_type": "code",
      "source": [
        "# 새로운 열을 추가하기 위한 함수 정의\n",
        "def contains_although(value):\n",
        "    if 'although' in str(value).lower():  # 대소문자 구분없이 'budget'이 포함되어 있는지 확인\n",
        "        return 1\n",
        "    else:\n",
        "        return 0\n",
        "\n",
        "# \"expected_timeline\" 열에서 함수를 적용하여 새로운 열 생성\n",
        "df_train['contains_although'] = df_train['expected_timeline'].apply(contains_although)\n",
        "df_test['contains_although'] = df_test['expected_timeline'].apply(contains_although)\n",
        "\n",
        "# 새로운 열을 추가하기 위한 함수 정의\n",
        "def contains_more(value):\n",
        "    if 'more' in str(value).lower():  # 대소문자 구분없이 'budget'이 포함되어 있는지 확인\n",
        "        return 1\n",
        "    else:\n",
        "        return 0\n",
        "\n",
        "# \"expected_timeline\" 열에서 함수를 적용하여 새로운 열 생성\n",
        "df_train['contains_more'] = df_train['expected_timeline'].apply(contains_more)\n",
        "df_test['contains_more'] = df_test['expected_timeline'].apply(contains_more)\n",
        "\n",
        "# 새로운 열을 추가하기 위한 함수 정의\n",
        "def contains_year(value):\n",
        "    if 'year' in str(value).lower():  # 대소문자 구분없이 'budget'이 포함되어 있는지 확인\n",
        "        return 1\n",
        "    else:\n",
        "        return 0\n",
        "\n",
        "# \"expected_timeline\" 열에서 함수를 적용하여 새로운 열 생성\n",
        "df_train['contains_year'] = df_train['expected_timeline'].apply(contains_year)\n",
        "df_test['contains_year'] = df_test['expected_timeline'].apply(contains_year)"
      ],
      "metadata": {
        "id": "ySv5tzpK6kqa"
      },
      "execution_count": 54,
      "outputs": []
    },
    {
      "cell_type": "code",
      "source": [
        "# Calculate the most frequent value (mode) for each column\n",
        "modes = df_train.mode().iloc[0]\n",
        "\n",
        "# Fill missing (NA) values with the mode\n",
        "df_train.fillna(modes, inplace=True)\n",
        "\n",
        "# Calculate the most frequent value (mode) for each column\n",
        "modes = df_test.mode().iloc[0]\n",
        "\n",
        "# Fill missing (NA) values with the mode\n",
        "df_test.fillna(modes, inplace=True)"
      ],
      "metadata": {
        "id": "xkpTgim5S371"
      },
      "execution_count": 55,
      "outputs": []
    },
    {
      "cell_type": "code",
      "source": [
        "'''\n",
        "df_train과 df_test에서 숫자 형식인거 다 str로 바꾸기 (일부제외)\n",
        "'''\n",
        "\n",
        "# 변환할 라벨들의 리스트\n",
        "labels_to_convert = [\n",
        "    \"bant_submit\",\n",
        "    \"com_reg_ver_win_rate_standardized\",\n",
        "    \"historical_existing_cnt_standardized\",\n",
        "    \"id_strategic_ver\",\n",
        "    \"it_strategic_ver\",\n",
        "    \"idit_strategic_ver\",\n",
        "    \"lead_desc_length_standardized\",\n",
        "    \"ver_cus\",\n",
        "    \"ver_pro\",\n",
        "    \"ver_win_rate_x_normalized\",\n",
        "    \"ver_win_ratio_per_bu_normalized\"\n",
        "]\n",
        "\n",
        "# df_test와 df_train에서 라벨들의 데이터 타입을 str로 변환\n",
        "for label in labels_to_convert:\n",
        "    if label in df_test.columns:\n",
        "        df_test[label] = df_test[label].astype(str)\n",
        "    if label in df_train.columns:\n",
        "        df_train[label] = df_train[label].astype(str)"
      ],
      "metadata": {
        "id": "97G_hQTHqoek"
      },
      "execution_count": 57,
      "outputs": []
    },
    {
      "cell_type": "code",
      "source": [
        "x_train, x_val, y_train, y_val = train_test_split(\n",
        "    df_train.drop(\"is_converted\", axis=1),\n",
        "    df_train[\"is_converted\"],\n",
        "    test_size=0.2,\n",
        "    shuffle=True,\n",
        "    random_state=400,\n",
        ")"
      ],
      "metadata": {
        "id": "-mbb0PlCZeF-"
      },
      "execution_count": 58,
      "outputs": []
    },
    {
      "cell_type": "code",
      "source": [
        "cat_features_col = list(x_train.columns)"
      ],
      "metadata": {
        "id": "aj_ixtmo5rcf"
      },
      "execution_count": 59,
      "outputs": []
    },
    {
      "cell_type": "code",
      "source": [
        "catboost_model = CatBoostClassifier(\n",
        "    verbose=0,\n",
        "    iterations=1000,\n",
        "    depth=6,\n",
        "    learning_rate=0.1,\n",
        "    loss_function='CrossEntropy',\n",
        "    one_hot_max_size=5,\n",
        "    cat_features=cat_features_col\n",
        "    )"
      ],
      "metadata": {
        "id": "o2NKfpp462Z9"
      },
      "execution_count": 60,
      "outputs": []
    },
    {
      "cell_type": "code",
      "source": [
        "catboost_model.fit(x_train, y_train)"
      ],
      "metadata": {
        "colab": {
          "base_uri": "https://localhost:8080/"
        },
        "id": "z8zcatsO64ga",
        "outputId": "1449cd1b-1e13-4c16-8ce4-e98969d0a71a"
      },
      "execution_count": 61,
      "outputs": [
        {
          "output_type": "execute_result",
          "data": {
            "text/plain": [
              "<catboost.core.CatBoostClassifier at 0x7d7f51360700>"
            ]
          },
          "metadata": {},
          "execution_count": 61
        }
      ]
    },
    {
      "cell_type": "code",
      "source": [
        "feature_importances = catboost_model.get_feature_importance()\n",
        "\n",
        "# 특성 중요도 출력\n",
        "for score, name in sorted(zip(feature_importances, x_train.columns), reverse=True):\n",
        "    print(f\"{name}: {score}\")"
      ],
      "metadata": {
        "colab": {
          "base_uri": "https://localhost:8080/"
        },
        "id": "UN46uYOdx_1G",
        "outputId": "2787858c-336c-4cb8-eecf-25817ecd923a"
      },
      "execution_count": 62,
      "outputs": [
        {
          "output_type": "stream",
          "name": "stdout",
          "text": [
            "lead_owner: 29.794078100019465\n",
            "customer_idx: 23.006719398437852\n",
            "response_corporate: 6.322731210629518\n",
            "inquiry_type: 5.865759381240368\n",
            "lead_desc_length_standardized: 4.540083167850406\n",
            "product_category: 4.32242961919456\n",
            "business_subarea: 3.1757043498576287\n",
            "customer_type: 3.0184312504664184\n",
            "customer_job: 2.570101807187274\n",
            "com_reg_ver_win_rate_standardized: 2.2902167793996258\n",
            "historical_existing_cnt_standardized: 2.0035104139229856\n",
            "customer_position: 1.7665213829519146\n",
            "product_subcategory: 1.3225426173830392\n",
            "ver_win_ratio_per_bu_normalized: 1.3059201296254948\n",
            "product_modelname: 1.2596673808630918\n",
            "business_unit: 1.2061769402621862\n",
            "ver_cus: 1.160299284137255\n",
            "business_area: 1.086924098463695\n",
            "bant_submit: 1.0639375125598267\n",
            "expected_timeline: 0.9154603564095906\n",
            "ver_win_rate_x_normalized: 0.8023750547170138\n",
            "enterprise: 0.5361130929190054\n",
            "ver_pro: 0.4635913904656987\n",
            "is_power: 0.14600725485380864\n",
            "contains_etc: 0.031694779770526794\n",
            "contains_year: 0.01957884585436287\n",
            "is_hospital: 0.00342440055749866\n",
            "contains_more: 0.0\n",
            "contains_hence: 0.0\n",
            "contains_budget: 0.0\n",
            "contains_although: 0.0\n"
          ]
        }
      ]
    }
  ],
  "metadata": {
    "colab": {
      "provenance": []
    },
    "kernelspec": {
      "display_name": "Python 3",
      "name": "python3"
    },
    "language_info": {
      "name": "python"
    }
  },
  "nbformat": 4,
  "nbformat_minor": 0
}