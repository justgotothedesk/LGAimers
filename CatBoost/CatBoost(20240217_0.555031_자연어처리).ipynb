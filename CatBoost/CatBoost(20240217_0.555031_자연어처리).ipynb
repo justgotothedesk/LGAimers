{
 "cells": [
  {
   "cell_type": "code",
   "execution_count": 54,
   "id": "e73a1a6a",
   "metadata": {},
   "outputs": [
    {
     "name": "stdout",
     "output_type": "stream",
     "text": [
      "Defaulting to user installation because normal site-packages is not writeable\n",
      "Requirement already satisfied: catboost in ./.local/lib/python3.10/site-packages (1.2.2)\n",
      "Requirement already satisfied: scipy in ./.local/lib/python3.10/site-packages (from catboost) (1.11.4)\n",
      "Requirement already satisfied: matplotlib in ./.local/lib/python3.10/site-packages (from catboost) (3.8.2)\n",
      "Requirement already satisfied: numpy>=1.16.0 in ./.local/lib/python3.10/site-packages (from catboost) (1.23.5)\n",
      "Requirement already satisfied: pandas>=0.24 in ./.local/lib/python3.10/site-packages (from catboost) (2.1.4)\n",
      "Requirement already satisfied: six in ./.local/lib/python3.10/site-packages (from catboost) (1.16.0)\n",
      "Requirement already satisfied: graphviz in ./.local/lib/python3.10/site-packages (from catboost) (0.20.1)\n",
      "Requirement already satisfied: plotly in ./.local/lib/python3.10/site-packages (from catboost) (5.18.0)\n",
      "Requirement already satisfied: python-dateutil>=2.8.2 in ./.local/lib/python3.10/site-packages (from pandas>=0.24->catboost) (2.8.2)\n",
      "Requirement already satisfied: tzdata>=2022.1 in ./.local/lib/python3.10/site-packages (from pandas>=0.24->catboost) (2023.4)\n",
      "Requirement already satisfied: pytz>=2020.1 in ./.local/lib/python3.10/site-packages (from pandas>=0.24->catboost) (2023.3.post1)\n",
      "Requirement already satisfied: kiwisolver>=1.3.1 in ./.local/lib/python3.10/site-packages (from matplotlib->catboost) (1.4.5)\n",
      "Requirement already satisfied: fonttools>=4.22.0 in ./.local/lib/python3.10/site-packages (from matplotlib->catboost) (4.47.2)\n",
      "Requirement already satisfied: pillow>=8 in ./.local/lib/python3.10/site-packages (from matplotlib->catboost) (10.2.0)\n",
      "Requirement already satisfied: pyparsing>=2.3.1 in ./.local/lib/python3.10/site-packages (from matplotlib->catboost) (3.1.1)\n",
      "Requirement already satisfied: cycler>=0.10 in ./.local/lib/python3.10/site-packages (from matplotlib->catboost) (0.12.1)\n",
      "Requirement already satisfied: packaging>=20.0 in ./.local/lib/python3.10/site-packages (from matplotlib->catboost) (23.2)\n",
      "Requirement already satisfied: contourpy>=1.0.1 in ./.local/lib/python3.10/site-packages (from matplotlib->catboost) (1.2.0)\n",
      "Requirement already satisfied: tenacity>=6.2.0 in ./.local/lib/python3.10/site-packages (from plotly->catboost) (8.2.3)\n",
      "\n",
      "\u001b[1m[\u001b[0m\u001b[34;49mnotice\u001b[0m\u001b[1;39;49m]\u001b[0m\u001b[39;49m A new release of pip is available: \u001b[0m\u001b[31;49m23.0.1\u001b[0m\u001b[39;49m -> \u001b[0m\u001b[32;49m24.0\u001b[0m\n",
      "\u001b[1m[\u001b[0m\u001b[34;49mnotice\u001b[0m\u001b[1;39;49m]\u001b[0m\u001b[39;49m To update, run: \u001b[0m\u001b[32;49mpip install --upgrade pip\u001b[0m\n"
     ]
    }
   ],
   "source": [
    "!pip install catboost"
   ]
  },
  {
   "cell_type": "code",
   "execution_count": 55,
   "id": "37db4102",
   "metadata": {},
   "outputs": [],
   "source": [
    "import pandas as pd\n",
    "import numpy as np\n",
    "from sklearn.model_selection import train_test_split\n",
    "from sklearn.preprocessing import StandardScaler, MinMaxScaler\n",
    "from sklearn.impute import SimpleImputer\n",
    "from sklearn.feature_extraction.text import TfidfVectorizer\n",
    "from sklearn.decomposition import TruncatedSVD\n",
    "from sklearn.pipeline import Pipeline\n",
    "from sklearn.compose import ColumnTransformer\n",
    "from catboost import CatBoostClassifier\n",
    "from sklearn.metrics import (\n",
    "    accuracy_score,\n",
    "    confusion_matrix,\n",
    "    f1_score,\n",
    "    precision_score,\n",
    "    recall_score,\n",
    "    classification_report\n",
    ")"
   ]
  },
  {
   "cell_type": "code",
   "execution_count": 56,
   "id": "5407056e",
   "metadata": {},
   "outputs": [],
   "source": [
    "df_train = pd.read_csv(\"train.csv\") # 학습용 데이터\n",
    "df_test = pd.read_csv(\"submission.csv\") # 테스트 데이터(제출파일의 데이터)"
   ]
  },
  {
   "cell_type": "code",
   "execution_count": 57,
   "id": "2237305a",
   "metadata": {},
   "outputs": [],
   "source": [
    "# 결측치 처리\n",
    "text_columns = [\"customer_type\", \"customer_job\", \"inquiry_type\", \"product_category\",\n",
    "                \"product_subcategory\", \"product_modelname\", \"customer_position\",\n",
    "                \"response_corporate\", \"expected_timeline\", \"business_area\"]\n",
    "\n",
    "df_train[text_columns] = df_train[text_columns].fillna('')\n",
    "df_test[text_columns] = df_test[text_columns].fillna('')\n",
    "\n",
    "# 자연어 데이터 통합\n",
    "df_train['text_data'] = df_train[text_columns].astype(str).apply(lambda x: ' '.join(x), axis=1)\n",
    "df_test['text_data'] = df_test[text_columns].astype(str).apply(lambda x: ' '.join(x), axis=1)"
   ]
  },
  {
   "cell_type": "code",
   "execution_count": 58,
   "id": "0432e981",
   "metadata": {},
   "outputs": [],
   "source": [
    "# 결측치 처리를 위한 Imputer를 사용하여 빈 문자열을 대체\n",
    "imputer = SimpleImputer(strategy='constant', fill_value='missing')\n",
    "df_train['text_data'] = imputer.fit_transform(df_train['text_data'].values.reshape(-1, 1)).ravel()\n",
    "df_test['text_data'] = imputer.transform(df_test['text_data'].values.reshape(-1, 1)).ravel()"
   ]
  },
  {
   "cell_type": "code",
   "execution_count": 59,
   "id": "523a78a8",
   "metadata": {},
   "outputs": [],
   "source": [
    "# TF-IDF 변환\n",
    "tfidf_vectorizer = TfidfVectorizer(max_features=1000, stop_words='english')\n",
    "tfidf_train = tfidf_vectorizer.fit_transform(df_train['text_data'])\n",
    "tfidf_test = tfidf_vectorizer.transform(df_test['text_data'])"
   ]
  },
  {
   "cell_type": "code",
   "execution_count": 60,
   "id": "4602738a",
   "metadata": {},
   "outputs": [],
   "source": [
    "# TruncatedSVD를 사용하여 차원 축소\n",
    "svd = TruncatedSVD(n_components=50, random_state=42)\n",
    "svd_train = svd.fit_transform(tfidf_train)\n",
    "svd_test = svd.transform(tfidf_test)"
   ]
  },
  {
   "cell_type": "code",
   "execution_count": 63,
   "id": "68680555",
   "metadata": {},
   "outputs": [],
   "source": [
    "# 변환된 데이터를 데이터프레임에 추가\n",
    "df_svd_train = pd.DataFrame(svd_train, columns=[f'svd_{i}' for i in range(svd_train.shape[1])])\n",
    "df_svd_test = pd.DataFrame(svd_test, columns=[f'svd_{i}' for i in range(svd_test.shape[1])])"
   ]
  },
  {
   "cell_type": "code",
   "execution_count": 64,
   "id": "4efb6012",
   "metadata": {},
   "outputs": [],
   "source": [
    "df_train = pd.concat([df_train, df_svd_train], axis=1)\n",
    "df_test = pd.concat([df_test, df_svd_test], axis=1)"
   ]
  },
  {
   "cell_type": "code",
   "execution_count": 65,
   "id": "151db326",
   "metadata": {},
   "outputs": [],
   "source": [
    "# 원래의 텍스트 열 및 중간 열들 삭제\n",
    "df_train.drop(text_columns + ['text_data'], axis=1, inplace=True)\n",
    "df_test.drop(text_columns + ['text_data'], axis=1, inplace=True)"
   ]
  },
  {
   "cell_type": "code",
   "execution_count": 66,
   "id": "83d34dd1",
   "metadata": {},
   "outputs": [],
   "source": [
    "# 수치형 변수 전체 Standardization, Normalization 실행\n",
    "scaler_standard = StandardScaler()\n",
    "scaler_minmax = MinMaxScaler()\n",
    "columns_to_ST = [\"com_reg_ver_win_rate\", \"historical_existing_cnt\", \"lead_desc_length\"]\n",
    "columns_to_NM = [\"ver_win_rate_x\", \"ver_win_ratio_per_bu\"]"
   ]
  },
  {
   "cell_type": "code",
   "execution_count": 67,
   "id": "81868abc",
   "metadata": {},
   "outputs": [],
   "source": [
    "# Apply Standardization to each column\n",
    "for column in columns_to_ST:\n",
    "    df_train[column + '_standardized'] = scaler_standard.fit_transform(df_train[[column]])\n",
    "    df_test[column + '_standardized'] = scaler_standard.transform(df_test[[column]])\n",
    "    df_train.drop(columns=[column], inplace=True)\n",
    "    df_test.drop(columns=[column], inplace=True)\n",
    "\n",
    "# Apply Normalization to each column\n",
    "for column in columns_to_NM:\n",
    "    df_train[column + '_normalized'] = scaler_minmax.fit_transform(df_train[[column]])\n",
    "    df_test[column + '_normalized'] = scaler_minmax.transform(df_test[[column]])\n",
    "    df_train.drop(columns=[column], inplace=True)\n",
    "    df_test.drop(columns=[column], inplace=True)"
   ]
  },
  {
   "cell_type": "code",
   "execution_count": 68,
   "id": "0dc62da4",
   "metadata": {},
   "outputs": [],
   "source": [
    "# 훈련 데이터와 검증 데이터로 분할\n",
    "x_train, x_val, y_train, y_val = train_test_split(\n",
    "    df_train.drop(\"is_converted\", axis=1),\n",
    "    df_train[\"is_converted\"],\n",
    "    test_size=0.2,\n",
    "    shuffle=True,\n",
    "    random_state=400,\n",
    ")\n",
    "\n",
    "cat_features_col = list(x_train.columns)\n",
    "cat_features_col.remove(\"bant_submit\")\n",
    "cat_features_col.remove(\"com_reg_ver_win_rate_standardized\")\n",
    "cat_features_col.remove(\"historical_existing_cnt_standardized\")\n",
    "cat_features_col.remove(\"id_strategic_ver\")\n",
    "cat_features_col.remove(\"it_strategic_ver\")\n",
    "cat_features_col.remove(\"idit_strategic_ver\")\n",
    "cat_features_col.remove(\"lead_desc_length_standardized\")\n",
    "cat_features_col.remove(\"ver_cus\")\n",
    "cat_features_col.remove(\"ver_pro\")\n",
    "cat_features_col.remove(\"ver_win_rate_x_normalized\")\n",
    "cat_features_col.remove(\"ver_win_ratio_per_bu_normalized\")\n",
    "\n",
    "for i in range(50):\n",
    "  cat_features_col.remove(\"svd_\"+str(i))"
   ]
  },
  {
   "cell_type": "code",
   "execution_count": 69,
   "id": "f8f560ea",
   "metadata": {},
   "outputs": [],
   "source": [
    "catboost_model = CatBoostClassifier(\n",
    "    verbose=0,\n",
    "    iterations=1000,\n",
    "    depth=6,\n",
    "    learning_rate=0.1,\n",
    "    loss_function='Logloss',\n",
    "    one_hot_max_size=5,\n",
    "    cat_features=cat_features_col\n",
    ")"
   ]
  },
  {
   "cell_type": "code",
   "execution_count": 70,
   "id": "030b160b",
   "metadata": {},
   "outputs": [],
   "source": [
    "# Calculate the most frequent value (mode) for each column\n",
    "modes = x_train.mode().iloc[0]\n",
    "\n",
    "# Fill missing (NA) values with the mode\n",
    "x_train.fillna(modes, inplace=True)"
   ]
  },
  {
   "cell_type": "code",
   "execution_count": 71,
   "id": "7bc556be",
   "metadata": {},
   "outputs": [
    {
     "data": {
      "text/plain": [
       "<catboost.core.CatBoostClassifier at 0x7fb3ac6b5ff0>"
      ]
     },
     "execution_count": 71,
     "metadata": {},
     "output_type": "execute_result"
    }
   ],
   "source": [
    "catboost_model.fit(x_train, y_train)"
   ]
  },
  {
   "cell_type": "code",
   "execution_count": 72,
   "id": "24d83093",
   "metadata": {},
   "outputs": [],
   "source": [
    "# Calculate the most frequent value (mode) for each column\n",
    "modes = x_val.mode().iloc[0]\n",
    "\n",
    "# Fill missing (NA) values with the mode\n",
    "x_val.fillna(modes, inplace=True)"
   ]
  },
  {
   "cell_type": "code",
   "execution_count": 73,
   "id": "3025665c",
   "metadata": {},
   "outputs": [
    {
     "name": "stdout",
     "output_type": "stream",
     "text": [
      "Classification Report:\n",
      "               precision    recall  f1-score   support\n",
      "\n",
      "       False       0.98      0.99      0.99     10913\n",
      "        True       0.92      0.79      0.85       947\n",
      "\n",
      "    accuracy                           0.98     11860\n",
      "   macro avg       0.95      0.89      0.92     11860\n",
      "weighted avg       0.98      0.98      0.98     11860\n",
      "\n",
      "Confusion Matrix:\n",
      " [[  750   197]\n",
      " [   67 10846]]\n",
      "\n",
      "Accuracy: 0.9777\n",
      "Precision: 0.9180\n",
      "Recall: 0.7920\n",
      "F1 Score: 0.8503\n"
     ]
    }
   ],
   "source": [
    "# 검증 데이터에 대한 예측 및 성능 평가\n",
    "y_val_pred = catboost_model.predict(x_val)\n",
    "y_val_pred = np.array([True if pred == 'True' else False for pred in y_val_pred])\n",
    "\n",
    "print(\"Classification Report:\\n\", classification_report(y_val, y_val_pred))\n",
    "print(\"Confusion Matrix:\\n\", confusion_matrix(y_val, y_val_pred, labels=[True, False]))\n",
    "print(\"\\nAccuracy: {:.4f}\".format(accuracy_score(y_val, y_val_pred)))\n",
    "print(\"Precision: {:.4f}\".format(precision_score(y_val, y_val_pred, labels=[True, False])))\n",
    "print(\"Recall: {:.4f}\".format(recall_score(y_val, y_val_pred)))\n",
    "print(\"F1 Score: {:.4f}\".format(f1_score(y_val, y_val_pred)))"
   ]
  },
  {
   "cell_type": "code",
   "execution_count": 74,
   "id": "491d9133",
   "metadata": {},
   "outputs": [],
   "source": [
    "x_test = df_test.drop([\"is_converted\", \"id\"], axis=1)\n",
    "\n",
    "# Calculate the most frequent value (mode) for each column\n",
    "modes = x_test.mode().iloc[0]\n",
    "\n",
    "# Fill missing (NA) values with the mode\n",
    "x_test.fillna(modes, inplace=True)\n",
    "\n",
    "test_pred = catboost_model.predict(x_test)\n",
    "\n",
    "df_sub = pd.read_csv(\"submission.csv\")\n",
    "df_sub[\"is_converted\"] = test_pred\n",
    "\n",
    "# 제출 파일 저장\n",
    "df_sub.to_csv(\"submission.csv\", index=False)"
   ]
  }
 ],
 "metadata": {
  "kernelspec": {
   "display_name": "Python 3 (ipykernel)",
   "language": "python",
   "name": "python3"
  },
  "language_info": {
   "codemirror_mode": {
    "name": "ipython",
    "version": 3
   },
   "file_extension": ".py",
   "mimetype": "text/x-python",
   "name": "python",
   "nbconvert_exporter": "python",
   "pygments_lexer": "ipython3",
   "version": "3.10.13"
  }
 },
 "nbformat": 4,
 "nbformat_minor": 5
}
