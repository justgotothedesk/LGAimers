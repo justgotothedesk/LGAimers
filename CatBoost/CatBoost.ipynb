{
  "cells": [
    {
      "cell_type": "code",
      "execution_count": 1,
      "metadata": {
        "id": "o1517vKY2dzs",
        "colab": {
          "base_uri": "https://localhost:8080/"
        },
        "outputId": "2055d8b8-06c6-4075-c8a0-425fcfa83603"
      },
      "outputs": [
        {
          "output_type": "stream",
          "name": "stdout",
          "text": [
            "Collecting catboost\n",
            "  Downloading catboost-1.2.2-cp310-cp310-manylinux2014_x86_64.whl (98.7 MB)\n",
            "\u001b[2K     \u001b[90m━━━━━━━━━━━━━━━━━━━━━━━━━━━━━━━━━━━━━━━━\u001b[0m \u001b[32m98.7/98.7 MB\u001b[0m \u001b[31m7.1 MB/s\u001b[0m eta \u001b[36m0:00:00\u001b[0m\n",
            "\u001b[?25hRequirement already satisfied: graphviz in /usr/local/lib/python3.10/dist-packages (from catboost) (0.20.1)\n",
            "Requirement already satisfied: matplotlib in /usr/local/lib/python3.10/dist-packages (from catboost) (3.7.1)\n",
            "Requirement already satisfied: numpy>=1.16.0 in /usr/local/lib/python3.10/dist-packages (from catboost) (1.23.5)\n",
            "Requirement already satisfied: pandas>=0.24 in /usr/local/lib/python3.10/dist-packages (from catboost) (1.5.3)\n",
            "Requirement already satisfied: scipy in /usr/local/lib/python3.10/dist-packages (from catboost) (1.11.4)\n",
            "Requirement already satisfied: plotly in /usr/local/lib/python3.10/dist-packages (from catboost) (5.15.0)\n",
            "Requirement already satisfied: six in /usr/local/lib/python3.10/dist-packages (from catboost) (1.16.0)\n",
            "Requirement already satisfied: python-dateutil>=2.8.1 in /usr/local/lib/python3.10/dist-packages (from pandas>=0.24->catboost) (2.8.2)\n",
            "Requirement already satisfied: pytz>=2020.1 in /usr/local/lib/python3.10/dist-packages (from pandas>=0.24->catboost) (2023.4)\n",
            "Requirement already satisfied: contourpy>=1.0.1 in /usr/local/lib/python3.10/dist-packages (from matplotlib->catboost) (1.2.0)\n",
            "Requirement already satisfied: cycler>=0.10 in /usr/local/lib/python3.10/dist-packages (from matplotlib->catboost) (0.12.1)\n",
            "Requirement already satisfied: fonttools>=4.22.0 in /usr/local/lib/python3.10/dist-packages (from matplotlib->catboost) (4.48.1)\n",
            "Requirement already satisfied: kiwisolver>=1.0.1 in /usr/local/lib/python3.10/dist-packages (from matplotlib->catboost) (1.4.5)\n",
            "Requirement already satisfied: packaging>=20.0 in /usr/local/lib/python3.10/dist-packages (from matplotlib->catboost) (23.2)\n",
            "Requirement already satisfied: pillow>=6.2.0 in /usr/local/lib/python3.10/dist-packages (from matplotlib->catboost) (9.4.0)\n",
            "Requirement already satisfied: pyparsing>=2.3.1 in /usr/local/lib/python3.10/dist-packages (from matplotlib->catboost) (3.1.1)\n",
            "Requirement already satisfied: tenacity>=6.2.0 in /usr/local/lib/python3.10/dist-packages (from plotly->catboost) (8.2.3)\n",
            "Installing collected packages: catboost\n",
            "Successfully installed catboost-1.2.2\n"
          ]
        }
      ],
      "source": [
        "pip install catboost"
      ]
    },
    {
      "cell_type": "code",
      "source": [
        "import pandas as pd\n",
        "import numpy as np\n",
        "from catboost import CatBoostClassifier\n",
        "from sklearn.model_selection import train_test_split\n",
        "from sklearn.preprocessing import FunctionTransformer\n",
        "from sklearn.compose import ColumnTransformer\n",
        "from sklearn.pipeline import Pipeline\n",
        "from sklearn.impute import SimpleImputer\n",
        "from sklearn.preprocessing import StandardScaler, OneHotEncoder\n",
        "from sklearn.metrics import (\n",
        "    accuracy_score,\n",
        "    confusion_matrix,\n",
        "    f1_score,\n",
        "    precision_score,\n",
        "    recall_score,\n",
        "    classification_report\n",
        ")"
      ],
      "metadata": {
        "id": "LgyQMqQwPUBB"
      },
      "execution_count": 23,
      "outputs": []
    },
    {
      "cell_type": "code",
      "source": [
        "from google.colab import drive\n",
        "drive.mount('/content/drive')\n",
        "train_file_path = '/content/drive/MyDrive/LGdata/train.csv'\n",
        "test_file_path = '/content/drive/MyDrive/LGdata/submission.csv'\n",
        "df_train = pd.read_csv(train_file_path)\n",
        "df_test = pd.read_csv(test_file_path)"
      ],
      "metadata": {
        "colab": {
          "base_uri": "https://localhost:8080/"
        },
        "id": "2eUhiATctbQc",
        "outputId": "d7850d95-1bc9-4666-9c2f-59a2e2045e64"
      },
      "execution_count": 3,
      "outputs": [
        {
          "output_type": "stream",
          "name": "stdout",
          "text": [
            "Mounted at /content/drive\n"
          ]
        }
      ]
    },
    {
      "cell_type": "code",
      "source": [
        "def label_encoding(series: pd.Series) -> pd.Series:\n",
        "    my_dict = {}\n",
        "\n",
        "    series = series.astype(str)\n",
        "\n",
        "    for idx, value in enumerate(sorted(series.unique())):\n",
        "        my_dict[value] = idx\n",
        "    series = series.map(my_dict)\n",
        "\n",
        "    return series"
      ],
      "metadata": {
        "id": "xV4G0fpSttpX"
      },
      "execution_count": 5,
      "outputs": []
    },
    {
      "cell_type": "code",
      "source": [
        "label_columns = [\n",
        "    \"customer_country\",\n",
        "    \"business_subarea\",\n",
        "    \"business_area\",\n",
        "    \"business_unit\",\n",
        "    \"customer_type\",\n",
        "    \"enterprise\",\n",
        "    \"customer_job\",\n",
        "    \"inquiry_type\",\n",
        "    \"product_category\",\n",
        "    \"product_subcategory\",\n",
        "    \"product_modelname\",\n",
        "    \"customer_country.1\",\n",
        "    \"customer_position\",\n",
        "    \"response_corporate\",\n",
        "    \"expected_timeline\",\n",
        "]"
      ],
      "metadata": {
        "id": "jVmQ7JNVt2yS"
      },
      "execution_count": 6,
      "outputs": []
    },
    {
      "cell_type": "code",
      "source": [
        "df_train.drop(['id_strategic_ver', 'it_strategic_ver', 'idit_strategic_ver'], axis=1, inplace=True)\n",
        "df_test.drop(['id_strategic_ver', 'it_strategic_ver', 'idit_strategic_ver'], axis=1, inplace=True)"
      ],
      "metadata": {
        "id": "Imezop83PiVz"
      },
      "execution_count": 7,
      "outputs": []
    },
    {
      "cell_type": "code",
      "source": [
        "df_all = pd.concat([df_train[label_columns], df_test[label_columns]])\n",
        "\n",
        "for col in label_columns:\n",
        "    df_all[col] = label_encoding(df_all[col])\n",
        "\n",
        "for col in label_columns:\n",
        "    df_train[col] = df_all.iloc[:len(df_train)][col]\n",
        "    df_test[col] = df_all.iloc[len(df_train):][col]"
      ],
      "metadata": {
        "id": "pl1XdjE1t4FB"
      },
      "execution_count": 8,
      "outputs": []
    },
    {
      "cell_type": "code",
      "source": [
        "def fill_country_from_response(row):\n",
        "    if pd.isnull(row['customer_country']):\n",
        "        return country_mapping.get(row['response_corporate'], row['customer_country'])\n",
        "    else:\n",
        "        return row['customer_country']\n",
        "\n",
        "country_mapping = {\n",
        "    'LGEIL': 'India',\n",
        "    'LGESP': 'Spain',\n",
        "    'LGEUS': 'United States',\n",
        "    'LGEMS': 'Malaysia',\n",
        "    'LGEPH': 'Philippines',\n",
        "    'LGEGF': 'France',\n",
        "    'LGECB': 'Cameroon',\n",
        "    'LGEUK': 'United Kingdom',\n",
        "    'LGESJ': 'Saudi Arabia',\n",
        "    'LGECL': 'Chile',\n",
        "    'LGEPS': 'Slovenia',\n",
        "    'LGEIS': 'Iceland',\n",
        "    'LGEPR': 'Puerto Rico',\n",
        "    'LGEDG': 'Algeria',\n",
        "    'LGEPL': 'Poland',\n",
        "    'LGEEG': 'Egypt',\n",
        "    'LGEVH': 'Venezuela',\n",
        "    'LGEES': 'Spain',\n",
        "    'LGETK': 'Turkey',\n",
        "    'LGEAR': 'Argentina',\n",
        "    'LGEKR': 'South Korea',\n",
        "    'LGEHK': 'Hong Kong',\n",
        "    'LGEAP': 'United Arab Emirates',\n",
        "    'LGESL': 'Slovakia',\n",
        "    'LGEMK': 'Malta',\n",
        "    'LGEFS': 'French Southern and Antarctic Lands',\n",
        "    'LGEAF': 'Afghanistan',\n",
        "    'LGEIN': 'India',\n",
        "    'LGELF': 'Luxembourg',\n",
        "    'LGESA': 'Samoa',\n",
        "    'LGECI': 'Ivory Coast',\n",
        "    'LGETH': 'Thailand',\n",
        "    'LGEEF': 'Eswatini',\n",
        "    'LGEPT': 'Portugal',\n",
        "    'LGEML': 'Maldives',\n",
        "    'LGEBN': 'Brunei',\n",
        "    'LGEYK': 'Yemen',\n",
        "    'LGECH': 'Switzerland',\n",
        "    'LGEHS': 'Australia',\n",
        "    'LGETT': 'Trinidad and Tobago',\n",
        "    'LGEJP': 'Japan',\n",
        "    'LGEAS': 'Asian',\n",
        "    'LGESW': 'Sweden',\n",
        "    'LGEMC': 'Montenegro',\n",
        "    'LGERO': 'Romania',\n",
        "    'LGEEB': 'Brunei',\n",
        "    'LGERA': 'Argentina',\n",
        "    'LGEAG': 'Angola',\n",
        "    'LGECZ': 'Czech Republic',\n",
        "    'LGELA': 'Laos',\n",
        "    'LGEIR': 'Ireland',\n",
        "    'LGEBT': 'Bhutan',\n",
        "    'LGEUR': 'European Union'\n",
        "}"
      ],
      "metadata": {
        "id": "nckH__9eQI7m"
      },
      "execution_count": 18,
      "outputs": []
    },
    {
      "cell_type": "code",
      "source": [
        "df_train['customer_country'] = df_train.apply(fill_country_from_response, axis=1)\n",
        "df_train['inquiry_type'].fillna('request for partnership', inplace=True)\n",
        "df_train['business_area'].fillna('Unknown', inplace=True)\n",
        "df_train['expected_timeline'] = df_train['expected_timeline'].fillna('nan').apply(lambda x: str(x).split()[0].lower())\n",
        "# df_train['customer_type'].fillna(pd.Series(np.random.choice(['Specifier/Influencer', 'Unknown'], p=[0.3, 0.7], size=len(df_train))), inplace=True)\n",
        "df_train['customer_type'].fillna('Unknown', inplace=True)\n",
        "df_train['customer_job'].fillna('Unknown', inplace=True)\n",
        "# df_train['product_category'].fillna(pd.Series(np.random.choice(['interactive digital board', 'Unknown'], p=[0.5, 0.5], size=len(df_train))), inplace=True)\n",
        "df_train['product_category'].fillna('Unknown', inplace=True)"
      ],
      "metadata": {
        "id": "XMitjZAqTUyi"
      },
      "execution_count": 39,
      "outputs": []
    },
    {
      "cell_type": "code",
      "source": [
        "x_train, x_val, y_train, y_val = train_test_split(\n",
        "    df_train.drop(\"is_converted\", axis=1),\n",
        "    df_train[\"is_converted\"],\n",
        "    test_size=0.4,\n",
        "    shuffle=True,\n",
        "    random_state=400,\n",
        ")"
      ],
      "metadata": {
        "id": "zSfj26lTuHc5"
      },
      "execution_count": 49,
      "outputs": []
    },
    {
      "cell_type": "code",
      "source": [
        "numeric_features = df_train.select_dtypes(include=['int64', 'float64']).columns\n",
        "categorical_features = df_train.select_dtypes(include=['object']).columns\n",
        "\n",
        "numeric_transformer = Pipeline(steps=[\n",
        "    ('imputer', SimpleImputer(strategy='median')),\n",
        "    ('scaler', StandardScaler())\n",
        "])\n",
        "\n",
        "categorical_transformer = Pipeline(steps=[\n",
        "    ('imputer', SimpleImputer(strategy='most_frequent')),\n",
        "    ('onehot', OneHotEncoder(handle_unknown='ignore'))\n",
        "])\n",
        "\n",
        "preprocessor = ColumnTransformer(\n",
        "    transformers=[\n",
        "        ('num', numeric_transformer, numeric_features),\n",
        "        ('cat', categorical_transformer, categorical_features)\n",
        "    ])"
      ],
      "metadata": {
        "id": "ehY1ccYPyUOX"
      },
      "execution_count": 50,
      "outputs": []
    },
    {
      "cell_type": "code",
      "source": [
        "catboost_model = CatBoostClassifier(random_state=400, verbose=0)\n",
        "\n",
        "pipeline = Pipeline(steps=[\n",
        "    ('preprocessor', preprocessor),\n",
        "    ('classifier', catboost_model)\n",
        "])\n",
        "\n",
        "pipeline.fit(x_train, y_train)\n",
        "\n",
        "y_val_pred = pipeline.predict(x_val)"
      ],
      "metadata": {
        "id": "Oqv4JZdTS3H3"
      },
      "execution_count": 51,
      "outputs": []
    },
    {
      "cell_type": "code",
      "source": [
        "y_val_pred_bool = np.array([True if pred == 'True' else False for pred in y_val_pred])\n",
        "\n",
        "print(\"Classification Report:\\n\", classification_report(y_val, y_val_pred_bool))\n",
        "print(\"오차행렬:\\n\", confusion_matrix(y_val, y_val_pred_bool, labels=[True, False]))\n",
        "print(\"\\n정확도: {:.4f}\".format(accuracy_score(y_val, y_val_pred_bool)))\n",
        "print(\"정밀도: {:.4f}\".format(precision_score(y_val, y_val_pred_bool, labels=[True, False])))\n",
        "print(\"재현율: {:.4f}\".format(recall_score(y_val, y_val_pred_bool)))\n",
        "print(\"F1: {:.4f}\".format(f1_score(y_val, y_val_pred_bool, labels=[True, False])))"
      ],
      "metadata": {
        "colab": {
          "base_uri": "https://localhost:8080/"
        },
        "id": "fB6g_WypxFUS",
        "outputId": "51a61196-c354-4365-f6e0-1475d1834fb0"
      },
      "execution_count": 52,
      "outputs": [
        {
          "output_type": "stream",
          "name": "stdout",
          "text": [
            "Classification Report:\n",
            "               precision    recall  f1-score   support\n",
            "\n",
            "       False       0.98      0.99      0.98     21756\n",
            "        True       0.93      0.72      0.81      1964\n",
            "\n",
            "    accuracy                           0.97     23720\n",
            "   macro avg       0.95      0.86      0.90     23720\n",
            "weighted avg       0.97      0.97      0.97     23720\n",
            "\n",
            "오차행렬:\n",
            " [[ 1410   554]\n",
            " [  109 21647]]\n",
            "\n",
            "정확도: 0.9720\n",
            "정밀도: 0.9282\n",
            "재현율: 0.7179\n",
            "F1: 0.8096\n"
          ]
        }
      ]
    },
    {
      "cell_type": "code",
      "source": [
        "x_test = df_test.drop([\"is_converted\", \"id\"], axis=1)"
      ],
      "metadata": {
        "id": "aRWDhhi9UD6b"
      },
      "execution_count": 53,
      "outputs": []
    },
    {
      "cell_type": "code",
      "source": [
        "x_test['customer_country'] = df_train.apply(fill_country_from_response, axis=1)\n",
        "x_test['inquiry_type'].fillna('request for partnership', inplace=True)\n",
        "x_test['business_area'].fillna('Unknown', inplace=True)\n",
        "x_test['expected_timeline'] = df_train['expected_timeline'].fillna('nan').apply(lambda x: str(x).split()[0].lower())\n",
        "# x_test['customer_type'].fillna(pd.Series(np.random.choice(['Specifier/Influencer', 'Unknown'], p=[0.3, 0.7], size=len(x_test))), inplace=True)\n",
        "x_test['customer_type'].fillna('Unknown', inplace=True)\n",
        "x_test['customer_job'].fillna('Unknown', inplace=True)\n",
        "# x_test['product_category'].fillna(pd.Series(np.random.choice(['interactive digital board', 'Unknown'], p=[0.5, 0.5], size=len(x_test))), inplace=True)\n",
        "x_test['product_category'].fillna('Unknown', inplace=True)"
      ],
      "metadata": {
        "id": "CInUMcN7UK2K"
      },
      "execution_count": 54,
      "outputs": []
    },
    {
      "cell_type": "code",
      "source": [
        "test_pred = pipeline.predict(x_test)\n",
        "\n",
        "test_pred_bool = np.array([True if pred == 'True' else False for pred in test_pred])\n",
        "\n",
        "sum_true_predictions = sum(test_pred_bool)\n",
        "print(\"True로 예측된 개수:\", sum_true_predictions)"
      ],
      "metadata": {
        "colab": {
          "base_uri": "https://localhost:8080/"
        },
        "id": "V60AmEsSUE07",
        "outputId": "aa7c6942-aa18-40d6-9c33-ef199d3c5a82"
      },
      "execution_count": 55,
      "outputs": [
        {
          "output_type": "stream",
          "name": "stdout",
          "text": [
            "True로 예측된 개수: 549\n"
          ]
        }
      ]
    }
  ],
  "metadata": {
    "colab": {
      "provenance": []
    },
    "kernelspec": {
      "display_name": "Python 3",
      "name": "python3"
    },
    "language_info": {
      "name": "python"
    }
  },
  "nbformat": 4,
  "nbformat_minor": 0
}