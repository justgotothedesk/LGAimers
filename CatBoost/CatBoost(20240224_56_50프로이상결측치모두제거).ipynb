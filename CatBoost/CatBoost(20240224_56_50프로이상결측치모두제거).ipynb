{
 "cells": [
  {
   "cell_type": "code",
   "execution_count": 1,
   "id": "c20d374f",
   "metadata": {},
   "outputs": [
    {
     "name": "stdout",
     "output_type": "stream",
     "text": [
      "Defaulting to user installation because normal site-packages is not writeable\n",
      "Requirement already satisfied: catboost in ./.local/lib/python3.10/site-packages (1.2.2)\n",
      "Requirement already satisfied: plotly in ./.local/lib/python3.10/site-packages (from catboost) (5.18.0)\n",
      "Requirement already satisfied: scipy in ./.local/lib/python3.10/site-packages (from catboost) (1.11.4)\n",
      "Requirement already satisfied: graphviz in ./.local/lib/python3.10/site-packages (from catboost) (0.20.1)\n",
      "Requirement already satisfied: six in ./.local/lib/python3.10/site-packages (from catboost) (1.16.0)\n",
      "Requirement already satisfied: numpy>=1.16.0 in ./.local/lib/python3.10/site-packages (from catboost) (1.23.5)\n",
      "Requirement already satisfied: pandas>=0.24 in ./.local/lib/python3.10/site-packages (from catboost) (2.1.4)\n",
      "Requirement already satisfied: matplotlib in ./.local/lib/python3.10/site-packages (from catboost) (3.8.2)\n",
      "Requirement already satisfied: tzdata>=2022.1 in ./.local/lib/python3.10/site-packages (from pandas>=0.24->catboost) (2023.4)\n",
      "Requirement already satisfied: python-dateutil>=2.8.2 in ./.local/lib/python3.10/site-packages (from pandas>=0.24->catboost) (2.8.2)\n",
      "Requirement already satisfied: pytz>=2020.1 in ./.local/lib/python3.10/site-packages (from pandas>=0.24->catboost) (2023.3.post1)\n",
      "Requirement already satisfied: pillow>=8 in ./.local/lib/python3.10/site-packages (from matplotlib->catboost) (10.2.0)\n",
      "Requirement already satisfied: kiwisolver>=1.3.1 in ./.local/lib/python3.10/site-packages (from matplotlib->catboost) (1.4.5)\n",
      "Requirement already satisfied: cycler>=0.10 in ./.local/lib/python3.10/site-packages (from matplotlib->catboost) (0.12.1)\n",
      "Requirement already satisfied: pyparsing>=2.3.1 in ./.local/lib/python3.10/site-packages (from matplotlib->catboost) (3.1.1)\n",
      "Requirement already satisfied: contourpy>=1.0.1 in ./.local/lib/python3.10/site-packages (from matplotlib->catboost) (1.2.0)\n",
      "Requirement already satisfied: fonttools>=4.22.0 in ./.local/lib/python3.10/site-packages (from matplotlib->catboost) (4.47.2)\n",
      "Requirement already satisfied: packaging>=20.0 in ./.local/lib/python3.10/site-packages (from matplotlib->catboost) (23.2)\n",
      "Requirement already satisfied: tenacity>=6.2.0 in ./.local/lib/python3.10/site-packages (from plotly->catboost) (8.2.3)\n",
      "\n",
      "\u001b[1m[\u001b[0m\u001b[34;49mnotice\u001b[0m\u001b[1;39;49m]\u001b[0m\u001b[39;49m A new release of pip is available: \u001b[0m\u001b[31;49m23.0.1\u001b[0m\u001b[39;49m -> \u001b[0m\u001b[32;49m24.0\u001b[0m\n",
      "\u001b[1m[\u001b[0m\u001b[34;49mnotice\u001b[0m\u001b[1;39;49m]\u001b[0m\u001b[39;49m To update, run: \u001b[0m\u001b[32;49mpip install --upgrade pip\u001b[0m\n"
     ]
    }
   ],
   "source": [
    "!pip install catboost"
   ]
  },
  {
   "cell_type": "code",
   "execution_count": 18,
   "id": "d61f0f25",
   "metadata": {},
   "outputs": [],
   "source": [
    "import pandas as pd\n",
    "import numpy as np\n",
    "import torch\n",
    "from catboost import CatBoostClassifier\n",
    "from sklearn.model_selection import train_test_split\n",
    "from sklearn.preprocessing import FunctionTransformer\n",
    "from sklearn.compose import ColumnTransformer\n",
    "from sklearn.pipeline import Pipeline\n",
    "from sklearn.impute import SimpleImputer\n",
    "from sklearn.preprocessing import StandardScaler, OneHotEncoder\n",
    "from sklearn.preprocessing import StandardScaler, MinMaxScaler\n",
    "from sklearn.metrics import (\n",
    "    accuracy_score,\n",
    "    confusion_matrix,\n",
    "    f1_score,\n",
    "    precision_score,\n",
    "    recall_score,\n",
    "    classification_report\n",
    ")"
   ]
  },
  {
   "cell_type": "code",
   "execution_count": 96,
   "id": "78e9f422",
   "metadata": {},
   "outputs": [],
   "source": [
    "df_train = pd.read_csv(\"train.csv\") # 학습용 데이터\n",
    "df_test = pd.read_csv(\"submission.csv\") # 테스트 데이터(제출파일의 데이터)"
   ]
  },
  {
   "cell_type": "code",
   "execution_count": 97,
   "id": "b74e5045",
   "metadata": {},
   "outputs": [],
   "source": [
    "'''\n",
    "# customer_country, customer_country.1 날리고 response_orporate만 남기기\n",
    "'''\n",
    "drop_col = ['id_strategic_ver', 'it_strategic_ver', 'idit_strategic_ver', 'product_subcategory', 'product_modelname', 'ver_win_ratio_per_bu', 'business_area', 'business_subarea', 'ver_win_rate_x', 'com_reg_ver_win_rate', 'historical_existing_cnt']\n",
    "df_train.drop(drop_col, axis=1, inplace=True)\n",
    "df_test.drop(drop_col, axis=1, inplace=True)"
   ]
  },
  {
   "cell_type": "code",
   "execution_count": 98,
   "id": "ac398979",
   "metadata": {},
   "outputs": [],
   "source": [
    "label_columns = list(df_train.columns)\n",
    "\n",
    "label_columns.remove(\"is_converted\")"
   ]
  },
  {
   "cell_type": "code",
   "execution_count": 99,
   "id": "3581014d",
   "metadata": {},
   "outputs": [],
   "source": [
    "'''\n",
    "# 수치형 변수 전체 Standardizaiton, Normalization 실행\n",
    "'''\n",
    "# Initialize scalers\n",
    "scaler_standard = StandardScaler()\n",
    "scaler_minmax = MinMaxScaler()\n",
    "columns_to_ST = [\"lead_desc_length\"]\n",
    "\n",
    "# Apply Standardization to each column\n",
    "for column in columns_to_ST:\n",
    "    # Standardization\n",
    "    df_train[column + '_standardized'] = scaler_standard.fit_transform(df_train[[column]])\n",
    "    df_test[column + '_standardized'] = scaler_standard.fit_transform(df_test[[column]])\n",
    "    # Drop the original column\n",
    "    df_train.drop(columns=[column], inplace=True)\n",
    "    df_test.drop(columns=[column], inplace=True)"
   ]
  },
  {
   "cell_type": "code",
   "execution_count": 100,
   "id": "cc9232c6",
   "metadata": {},
   "outputs": [],
   "source": [
    "'''\n",
    "# expected_timeline 에서 특정 단어 필터링\n",
    "'''\n",
    "# 새로운 열을 추가하기 위한 함수 정의\n",
    "def contains_budget(value):\n",
    "    if 'budget' in str(value).lower():  # 대소문자 구분없이 'budget'이 포함되어 있는지 확인\n",
    "        return 1\n",
    "    else:\n",
    "        return 0\n",
    "\n",
    "# \"expected_timeline\" 열에서 함수를 적용하여 새로운 열 생성\n",
    "df_train['contains_budget'] = df_train['expected_timeline'].apply(contains_budget)\n",
    "df_test['contains_budget'] = df_test['expected_timeline'].apply(contains_budget)\n",
    "\n",
    "# 새로운 열을 추가하기 위한 함수 정의\n",
    "def contains_etc(value):\n",
    "    if 'etc' in str(value).lower():  # 대소문자 구분없이 'budget'이 포함되어 있는지 확인\n",
    "        return 1\n",
    "    else:\n",
    "        return 0\n",
    "\n",
    "# \"expected_timeline\" 열에서 함수를 적용하여 새로운 열 생성\n",
    "df_train['contains_etc'] = df_train['expected_timeline'].apply(contains_etc)\n",
    "df_test['contains_etc'] = df_test['expected_timeline'].apply(contains_etc)\n",
    "\n",
    "# 새로운 열을 추가하기 위한 함수 정의\n",
    "def contains_hence(value):\n",
    "    if 'hence' in str(value).lower():  # 대소문자 구분없이 'budget'이 포함되어 있는지 확인\n",
    "        return 1\n",
    "    else:\n",
    "        return 0\n",
    "\n",
    "# \"expected_timeline\" 열에서 함수를 적용하여 새로운 열 생성\n",
    "df_train['contains_hence'] = df_train['expected_timeline'].apply(contains_hence)\n",
    "df_test['contains_hence'] = df_test['expected_timeline'].apply(contains_hence)\n",
    "\n",
    "# 새로운 열을 추가하기 위한 함수 정의\n",
    "def contains_although(value):\n",
    "    if 'although' in str(value).lower():  # 대소문자 구분없이 'budget'이 포함되어 있는지 확인\n",
    "        return 1\n",
    "    else:\n",
    "        return 0\n",
    "\n",
    "# \"expected_timeline\" 열에서 함수를 적용하여 새로운 열 생성\n",
    "df_train['contains_although'] = df_train['expected_timeline'].apply(contains_although)\n",
    "df_test['contains_although'] = df_test['expected_timeline'].apply(contains_although)\n",
    "\n",
    "# 새로운 열을 추가하기 위한 함수 정의\n",
    "def contains_more(value):\n",
    "    if 'more' in str(value).lower():  # 대소문자 구분없이 'budget'이 포함되어 있는지 확인\n",
    "        return 1\n",
    "    else:\n",
    "        return 0\n",
    "\n",
    "# \"expected_timeline\" 열에서 함수를 적용하여 새로운 열 생성\n",
    "df_train['contains_more'] = df_train['expected_timeline'].apply(contains_more)\n",
    "df_test['contains_more'] = df_test['expected_timeline'].apply(contains_more)\n",
    "\n",
    "# 새로운 열을 추가하기 위한 함수 정의\n",
    "def contains_year(value):\n",
    "    if 'year' in str(value).lower():  # 대소문자 구분없이 'budget'이 포함되어 있는지 확인\n",
    "        return 1\n",
    "    else:\n",
    "        return 0\n",
    "\n",
    "# \"expected_timeline\" 열에서 함수를 적용하여 새로운 열 생성\n",
    "df_train['contains_year'] = df_train['expected_timeline'].apply(contains_year)\n",
    "df_test['contains_year'] = df_test['expected_timeline'].apply(contains_year)"
   ]
  },
  {
   "cell_type": "code",
   "execution_count": 101,
   "id": "495d9d98",
   "metadata": {},
   "outputs": [],
   "source": [
    "# Calculate the most frequent value (mode) for each column\n",
    "modes = df_train.mode().iloc[0]\n",
    "\n",
    "# Fill missing (NA) values with the mode\n",
    "df_train.fillna(modes, inplace=True)\n",
    "\n",
    "# Calculate the most frequent value (mode) for each column\n",
    "modes = df_test.mode().iloc[0]\n",
    "\n",
    "# Fill missing (NA) values with the mode\n",
    "df_test.fillna(modes, inplace=True)"
   ]
  },
  {
   "cell_type": "code",
   "execution_count": 102,
   "id": "f5806d43",
   "metadata": {},
   "outputs": [],
   "source": [
    "'''\n",
    "df_train과 df_test에서 숫자 형식인거 다 str로 바꾸기 (일부제외)\n",
    "'''\n",
    "\n",
    "# 변환할 라벨들의 리스트\n",
    "labels_to_convert = [\n",
    "    \"bant_submit\",\n",
    "    \"lead_desc_length_standardized\",\n",
    "    \"ver_cus\",\n",
    "    \"ver_pro\"\n",
    "]\n",
    "\n",
    "# df_test와 df_train에서 라벨들의 데이터 타입을 str로 변환\n",
    "for label in labels_to_convert:\n",
    "    if label in df_test.columns:\n",
    "        df_test[label] = df_test[label].astype(str)\n",
    "    if label in df_train.columns:\n",
    "        df_train[label] = df_train[label].astype(str)\n",
    "\n",
    "df_train['is_converted'] = df_train['is_converted'].astype(int)\n",
    "df_test['is_converted'] = df_test['is_converted'].astype(int)"
   ]
  },
  {
   "cell_type": "code",
   "execution_count": 103,
   "id": "fad91e7f",
   "metadata": {},
   "outputs": [],
   "source": [
    "x_train, x_val, y_train, y_val = train_test_split(\n",
    "    df_train.drop(\"is_converted\", axis=1),\n",
    "    df_train[\"is_converted\"],\n",
    "    test_size=0.2,\n",
    "    shuffle=True,\n",
    "    random_state=400,\n",
    ")"
   ]
  },
  {
   "cell_type": "code",
   "execution_count": 104,
   "id": "f3c3590d",
   "metadata": {},
   "outputs": [],
   "source": [
    "cat_features_col = list(x_train.columns)"
   ]
  },
  {
   "cell_type": "code",
   "execution_count": 105,
   "id": "508df52d",
   "metadata": {},
   "outputs": [],
   "source": [
    "catboost_model = CatBoostClassifier(\n",
    "    verbose=0, \n",
    "    iterations=1000, \n",
    "    depth=6, \n",
    "    learning_rate=0.1, \n",
    "    loss_function='CrossEntropy',\n",
    "    one_hot_max_size=5,\n",
    "    cat_features=cat_features_col\n",
    "    )"
   ]
  },
  {
   "cell_type": "code",
   "execution_count": 106,
   "id": "41e686d8",
   "metadata": {},
   "outputs": [
    {
     "data": {
      "text/plain": [
       "<catboost.core.CatBoostClassifier at 0x7f50e5148a60>"
      ]
     },
     "execution_count": 106,
     "metadata": {},
     "output_type": "execute_result"
    }
   ],
   "source": [
    "catboost_model.fit(x_train, y_train)"
   ]
  },
  {
   "cell_type": "code",
   "execution_count": 107,
   "id": "e3493470",
   "metadata": {},
   "outputs": [
    {
     "name": "stdout",
     "output_type": "stream",
     "text": [
      "lead_owner: 26.61783388790074\n",
      "customer_idx: 19.100717201963278\n",
      "inquiry_type: 8.099742493671643\n",
      "lead_desc_length_standardized: 6.755515978308485\n",
      "product_category: 6.580650087574272\n",
      "response_corporate: 6.277030512051421\n",
      "customer_type: 5.4715662944799295\n",
      "customer_job: 4.4775931617496125\n",
      "customer_country.1: 3.828743922292745\n",
      "customer_position: 3.588789070158321\n",
      "business_unit: 1.7841640603617246\n",
      "expected_timeline: 1.777658703743146\n",
      "bant_submit: 1.697327145439356\n",
      "ver_cus: 1.6877583240879317\n",
      "enterprise: 0.750554974770155\n",
      "customer_country: 0.695513235501489\n",
      "ver_pro: 0.6490025188554939\n",
      "contains_etc: 0.0807046022794914\n",
      "contains_more: 0.042138141247677265\n",
      "contains_year: 0.036436532137434995\n",
      "contains_hence: 0.0005591514256589993\n",
      "contains_budget: 0.0\n",
      "contains_although: 0.0\n"
     ]
    }
   ],
   "source": [
    "feature_importances = catboost_model.get_feature_importance()\n",
    "\n",
    "# 특성 중요도 출력\n",
    "for score, name in sorted(zip(feature_importances, x_train.columns), reverse=True):\n",
    "    print(f\"{name}: {score}\")"
   ]
  },
  {
   "cell_type": "code",
   "execution_count": 108,
   "id": "ba04d868",
   "metadata": {},
   "outputs": [
    {
     "name": "stdout",
     "output_type": "stream",
     "text": [
      "[0 0 0 ... 0 0 0]\n",
      "Classification Report:\n",
      "               precision    recall  f1-score   support\n",
      "\n",
      "           0       0.92      1.00      0.96     10913\n",
      "           1       0.00      0.00      0.00       947\n",
      "\n",
      "    accuracy                           0.92     11860\n",
      "   macro avg       0.46      0.50      0.48     11860\n",
      "weighted avg       0.85      0.92      0.88     11860\n",
      "\n",
      "오차행렬:\n",
      " [[    0   947]\n",
      " [    0 10913]]\n",
      "\n",
      "정확도: 0.9202\n",
      "정밀도: 0.0000\n",
      "재현율: 0.0000\n",
      "F1: 0.0000\n"
     ]
    },
    {
     "name": "stderr",
     "output_type": "stream",
     "text": [
      "/home/elicer/.local/lib/python3.10/site-packages/sklearn/metrics/_classification.py:1344: UndefinedMetricWarning: Precision and F-score are ill-defined and being set to 0.0 in labels with no predicted samples. Use `zero_division` parameter to control this behavior.\n",
      "  _warn_prf(average, modifier, msg_start, len(result))\n",
      "/home/elicer/.local/lib/python3.10/site-packages/sklearn/metrics/_classification.py:1344: UndefinedMetricWarning: Precision and F-score are ill-defined and being set to 0.0 in labels with no predicted samples. Use `zero_division` parameter to control this behavior.\n",
      "  _warn_prf(average, modifier, msg_start, len(result))\n",
      "/home/elicer/.local/lib/python3.10/site-packages/sklearn/metrics/_classification.py:1344: UndefinedMetricWarning: Precision and F-score are ill-defined and being set to 0.0 in labels with no predicted samples. Use `zero_division` parameter to control this behavior.\n",
      "  _warn_prf(average, modifier, msg_start, len(result))\n",
      "/home/elicer/.local/lib/python3.10/site-packages/sklearn/metrics/_classification.py:1344: UndefinedMetricWarning: Precision is ill-defined and being set to 0.0 due to no predicted samples. Use `zero_division` parameter to control this behavior.\n",
      "  _warn_prf(average, modifier, msg_start, len(result))\n"
     ]
    }
   ],
   "source": [
    "# 모델을 사용하여 검증 데이터셋에 대한 예측 수행\n",
    "y_val_pred = catboost_model.predict(x_val)\n",
    "print (y_val_pred)\n",
    "\n",
    "y_val_pred = np.array([True if pred == 'True' else False for pred in y_val_pred])\n",
    "\n",
    "print(\"Classification Report:\\n\", classification_report(y_val, y_val_pred))\n",
    "print(\"오차행렬:\\n\", confusion_matrix(y_val, y_val_pred, labels=[True, False]))\n",
    "print(\"\\n정확도: {:.4f}\".format(accuracy_score(y_val, y_val_pred)))\n",
    "print(\"정밀도: {:.4f}\".format(precision_score(y_val, y_val_pred, labels=[True, False])))\n",
    "print(\"재현율: {:.4f}\".format(recall_score(y_val, y_val_pred)))\n",
    "print(\"F1: {:.4f}\".format(f1_score(y_val, y_val_pred, labels=[True, False])))"
   ]
  },
  {
   "cell_type": "code",
   "execution_count": 109,
   "id": "1da9c8d3",
   "metadata": {},
   "outputs": [
    {
     "name": "stdout",
     "output_type": "stream",
     "text": [
      "0        True\n",
      "1        True\n",
      "2        True\n",
      "3       False\n",
      "4       False\n",
      "        ...  \n",
      "5266    False\n",
      "5267     True\n",
      "5268    False\n",
      "5269    False\n",
      "5270     True\n",
      "Name: is_converted, Length: 5271, dtype: bool\n"
     ]
    }
   ],
   "source": [
    "x_test = df_test.drop([\"is_converted\", \"id\"], axis=1)\n",
    "\n",
    "test_pred = catboost_model.predict(x_test)\n",
    "\n",
    "df_sub = pd.read_csv(\"submission.csv\")\n",
    "df_sub[\"is_converted\"] = test_pred\n",
    "df_sub['is_converted'] = df_sub['is_converted'].astype(bool)\n",
    "print(df_sub['is_converted'])\n",
    "\n",
    "# 제출 파일 저장\n",
    "df_sub.to_csv(\"submission.csv\", index=False)"
   ]
  }
 ],
 "metadata": {
  "kernelspec": {
   "display_name": "Python 3 (ipykernel)",
   "language": "python",
   "name": "python3"
  },
  "language_info": {
   "codemirror_mode": {
    "name": "ipython",
    "version": 3
   },
   "file_extension": ".py",
   "mimetype": "text/x-python",
   "name": "python",
   "nbconvert_exporter": "python",
   "pygments_lexer": "ipython3",
   "version": "3.10.13"
  }
 },
 "nbformat": 4,
 "nbformat_minor": 5
}
