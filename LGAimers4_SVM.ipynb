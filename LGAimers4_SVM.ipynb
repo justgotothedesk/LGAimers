{
  "nbformat": 4,
  "nbformat_minor": 0,
  "metadata": {
    "colab": {
      "provenance": []
    },
    "kernelspec": {
      "name": "python3",
      "display_name": "Python 3"
    },
    "language_info": {
      "name": "python"
    }
  },
  "cells": [
    {
      "cell_type": "code",
      "execution_count": 1,
      "metadata": {
        "id": "lPhq20P7VZ6t"
      },
      "outputs": [],
      "source": [
        "import pandas as pd\n",
        "from sklearn.model_selection import train_test_split\n",
        "from sklearn.compose import ColumnTransformer\n",
        "from sklearn.pipeline import Pipeline\n",
        "from sklearn.impute import SimpleImputer\n",
        "from sklearn.preprocessing import StandardScaler, OneHotEncoder\n",
        "from sklearn.svm import SVC\n",
        "from sklearn.metrics import (\n",
        "    accuracy_score,\n",
        "    confusion_matrix,\n",
        "    f1_score,\n",
        "    precision_score,\n",
        "    recall_score,\n",
        "    classification_report\n",
        ")"
      ]
    },
    {
      "cell_type": "code",
      "source": [
        "from google.colab import drive\n",
        "\n",
        "drive.mount('/content/drive')\n",
        "\n",
        "train_file_path = '/content/drive/MyDrive/LGdata/train.csv'\n",
        "test_file_path = '/content/drive/MyDrive/LGdata/submission.csv'\n",
        "\n",
        "df_train = pd.read_csv(train_file_path)\n",
        "df_test = pd.read_csv(test_file_path)"
      ],
      "metadata": {
        "colab": {
          "base_uri": "https://localhost:8080/"
        },
        "id": "g__5J136VoOj",
        "outputId": "02c94a2e-270c-4f5b-ec2b-aeec64f87e8e"
      },
      "execution_count": 2,
      "outputs": [
        {
          "output_type": "stream",
          "name": "stdout",
          "text": [
            "Mounted at /content/drive\n"
          ]
        }
      ]
    },
    {
      "cell_type": "code",
      "source": [
        "def label_encoding(series: pd.Series) -> pd.Series:\n",
        "    my_dict = {}\n",
        "\n",
        "    series = series.astype(str)\n",
        "\n",
        "    for idx, value in enumerate(sorted(series.unique())):\n",
        "        my_dict[value] = idx\n",
        "    series = series.map(my_dict)\n",
        "\n",
        "    return series"
      ],
      "metadata": {
        "id": "_bCYk_tJV96B"
      },
      "execution_count": 3,
      "outputs": []
    },
    {
      "cell_type": "code",
      "source": [
        "label_columns = [\n",
        "    \"customer_country\",\n",
        "    \"business_subarea\",\n",
        "    \"business_area\",\n",
        "    \"business_unit\",\n",
        "    \"customer_type\",\n",
        "    \"enterprise\",\n",
        "    \"customer_job\",\n",
        "    \"inquiry_type\",\n",
        "    \"product_category\",\n",
        "    \"product_subcategory\",\n",
        "    \"product_modelname\",\n",
        "    \"customer_country.1\",\n",
        "    \"customer_position\",\n",
        "    \"response_corporate\",\n",
        "    \"expected_timeline\",\n",
        "]"
      ],
      "metadata": {
        "id": "va2ZI3uhV-tD"
      },
      "execution_count": 4,
      "outputs": []
    },
    {
      "cell_type": "code",
      "source": [
        "df_all = pd.concat([df_train[label_columns], df_test[label_columns]])\n",
        "\n",
        "for col in label_columns:\n",
        "    df_all[col] = label_encoding(df_all[col])\n",
        "\n",
        "for col in label_columns:\n",
        "    df_train[col] = df_all.iloc[:len(df_train)][col]\n",
        "    df_test[col] = df_all.iloc[len(df_train):][col]"
      ],
      "metadata": {
        "id": "gNk2YVUVWBEX"
      },
      "execution_count": 5,
      "outputs": []
    },
    {
      "cell_type": "code",
      "source": [
        "x_train, x_val, y_train, y_val = train_test_split(\n",
        "    df_train.drop(\"is_converted\", axis=1),\n",
        "    df_train[\"is_converted\"],\n",
        "    test_size=0.2,\n",
        "    shuffle=True,\n",
        "    random_state=400,\n",
        ")"
      ],
      "metadata": {
        "id": "JK7M6SV0WA_8"
      },
      "execution_count": 6,
      "outputs": []
    },
    {
      "cell_type": "code",
      "source": [
        "numeric_features = x_train.select_dtypes(include=['int64', 'float64']).columns\n",
        "categorical_features = x_train.select_dtypes(include=['object']).columns\n",
        "\n",
        "numeric_transformer = Pipeline(steps=[\n",
        "    ('imputer', SimpleImputer(strategy='mean')),\n",
        "    ('scaler', StandardScaler())\n",
        "])\n",
        "\n",
        "categorical_transformer = Pipeline(steps=[\n",
        "    ('imputer', SimpleImputer(strategy='most_frequent')),\n",
        "    ('onehot', OneHotEncoder(handle_unknown='ignore'))\n",
        "])\n",
        "\n",
        "preprocessor = ColumnTransformer(\n",
        "    transformers=[\n",
        "        ('num', numeric_transformer, numeric_features),\n",
        "        ('cat', categorical_transformer, categorical_features)\n",
        "    ])"
      ],
      "metadata": {
        "id": "cMMcb8UsWFps"
      },
      "execution_count": 7,
      "outputs": []
    },
    {
      "cell_type": "code",
      "source": [
        "model = SVC(random_state=400)\n",
        "\n",
        "pipeline = Pipeline(steps=[('preprocessor', preprocessor),\n",
        "                             ('classifier', model)])\n",
        "\n",
        "pipeline.fit(x_train, y_train)\n",
        "\n",
        "y_val_pred = pipeline.predict(x_val)"
      ],
      "metadata": {
        "id": "vlK3Nb3gWI4H"
      },
      "execution_count": 8,
      "outputs": []
    },
    {
      "cell_type": "code",
      "source": [
        "print(\"Classification Report:\\n\", classification_report(y_val, y_val_pred))\n",
        "print(\"오차행렬:\\n\", confusion_matrix(y_val, y_val_pred, labels=[True, False]))\n",
        "print(\"\\n정확도: {:.4f}\".format(accuracy_score(y_val, y_val_pred)))\n",
        "print(\"정밀도: {:.4f}\".format(precision_score(y_val, y_val_pred, labels=[True, False])))\n",
        "print(\"재현율: {:.4f}\".format(recall_score(y_val, y_val_pred)))\n",
        "print(\"F1: {:.4f}\".format(f1_score(y_val, y_val_pred, labels=[True, False])))"
      ],
      "metadata": {
        "colab": {
          "base_uri": "https://localhost:8080/"
        },
        "id": "sF_CdB29WRcU",
        "outputId": "45603ee7-cde5-4908-9bd7-24c5d3407b06"
      },
      "execution_count": 9,
      "outputs": [
        {
          "output_type": "stream",
          "name": "stdout",
          "text": [
            "Classification Report:\n",
            "               precision    recall  f1-score   support\n",
            "\n",
            "       False       0.93      1.00      0.96     10913\n",
            "        True       0.71      0.13      0.22       947\n",
            "\n",
            "    accuracy                           0.93     11860\n",
            "   macro avg       0.82      0.56      0.59     11860\n",
            "weighted avg       0.91      0.93      0.90     11860\n",
            "\n",
            "오차행렬:\n",
            " [[  126   821]\n",
            " [   52 10861]]\n",
            "\n",
            "정확도: 0.9264\n",
            "정밀도: 0.7079\n",
            "재현율: 0.1331\n",
            "F1: 0.2240\n"
          ]
        }
      ]
    }
  ]
}