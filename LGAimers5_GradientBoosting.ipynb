{
  "nbformat": 4,
  "nbformat_minor": 0,
  "metadata": {
    "colab": {
      "provenance": []
    },
    "kernelspec": {
      "name": "python3",
      "display_name": "Python 3"
    },
    "language_info": {
      "name": "python"
    }
  },
  "cells": [
    {
      "cell_type": "code",
      "execution_count": 1,
      "metadata": {
        "id": "2unzJehfXRk5"
      },
      "outputs": [],
      "source": [
        "import pandas as pd\n",
        "from sklearn.model_selection import train_test_split\n",
        "from sklearn.compose import ColumnTransformer\n",
        "from sklearn.pipeline import Pipeline\n",
        "from sklearn.impute import SimpleImputer\n",
        "from sklearn.preprocessing import StandardScaler, OneHotEncoder\n",
        "from sklearn.ensemble import GradientBoostingClassifier\n",
        "from sklearn.metrics import (\n",
        "    accuracy_score,\n",
        "    confusion_matrix,\n",
        "    f1_score,\n",
        "    precision_score,\n",
        "    recall_score,\n",
        "    classification_report\n",
        ")"
      ]
    },
    {
      "cell_type": "code",
      "source": [
        "from google.colab import drive\n",
        "\n",
        "drive.mount('/content/drive')\n",
        "\n",
        "train_file_path = '/content/drive/MyDrive/LGdata/train.csv'\n",
        "test_file_path = '/content/drive/MyDrive/LGdata/submission.csv'\n",
        "\n",
        "df_train = pd.read_csv(train_file_path)\n",
        "df_test = pd.read_csv(test_file_path)"
      ],
      "metadata": {
        "colab": {
          "base_uri": "https://localhost:8080/"
        },
        "id": "C_nmmCDddhfa",
        "outputId": "69c938c6-6a4a-4617-96f7-2a2ec781bd76"
      },
      "execution_count": 2,
      "outputs": [
        {
          "output_type": "stream",
          "name": "stdout",
          "text": [
            "Mounted at /content/drive\n"
          ]
        }
      ]
    },
    {
      "cell_type": "code",
      "source": [
        "def label_encoding(series: pd.Series) -> pd.Series:\n",
        "    my_dict = {}\n",
        "\n",
        "    series = series.astype(str)\n",
        "\n",
        "    for idx, value in enumerate(sorted(series.unique())):\n",
        "        my_dict[value] = idx\n",
        "    series = series.map(my_dict)\n",
        "\n",
        "    return series"
      ],
      "metadata": {
        "id": "ulMNOB2Adqux"
      },
      "execution_count": 3,
      "outputs": []
    },
    {
      "cell_type": "code",
      "source": [
        "label_columns = [\n",
        "    \"customer_country\",\n",
        "    \"business_subarea\",\n",
        "    \"business_area\",\n",
        "    \"business_unit\",\n",
        "    \"customer_type\",\n",
        "    \"enterprise\",\n",
        "    \"customer_job\",\n",
        "    \"inquiry_type\",\n",
        "    \"product_category\",\n",
        "    \"product_subcategory\",\n",
        "    \"product_modelname\",\n",
        "    \"customer_country.1\",\n",
        "    \"customer_position\",\n",
        "    \"response_corporate\",\n",
        "    \"expected_timeline\",\n",
        "]"
      ],
      "metadata": {
        "id": "j3YiGxOudrcH"
      },
      "execution_count": 4,
      "outputs": []
    },
    {
      "cell_type": "code",
      "source": [
        "df_all = pd.concat([df_train[label_columns], df_test[label_columns]])\n",
        "\n",
        "for col in label_columns:\n",
        "    df_all[col] = label_encoding(df_all[col])\n",
        "\n",
        "for col in label_columns:\n",
        "    df_train[col] = df_all.iloc[:len(df_train)][col]\n",
        "    df_test[col] = df_all.iloc[len(df_train):][col]"
      ],
      "metadata": {
        "id": "6o1YR2FNduAf"
      },
      "execution_count": 5,
      "outputs": []
    },
    {
      "cell_type": "code",
      "source": [
        "x_train, x_val, y_train, y_val = train_test_split(\n",
        "    df_train.drop(\"is_converted\", axis=1),\n",
        "    df_train[\"is_converted\"],\n",
        "    test_size=0.2,\n",
        "    shuffle=True,\n",
        "    random_state=400,\n",
        ")"
      ],
      "metadata": {
        "id": "ZkoXxTK2dxQQ"
      },
      "execution_count": 6,
      "outputs": []
    },
    {
      "cell_type": "code",
      "source": [
        "numeric_features = x_train.select_dtypes(include=['int64', 'float64']).columns\n",
        "categorical_features = x_train.select_dtypes(include=['object']).columns\n",
        "\n",
        "numeric_transformer = Pipeline(steps=[\n",
        "    ('imputer', SimpleImputer(strategy='mean')),\n",
        "    ('scaler', StandardScaler())\n",
        "])\n",
        "\n",
        "categorical_transformer = Pipeline(steps=[\n",
        "    ('imputer', SimpleImputer(strategy='most_frequent')),\n",
        "    ('onehot', OneHotEncoder(handle_unknown='ignore'))\n",
        "])\n",
        "\n",
        "preprocessor = ColumnTransformer(\n",
        "    transformers=[\n",
        "        ('num', numeric_transformer, numeric_features),\n",
        "        ('cat', categorical_transformer, categorical_features)\n",
        "    ])"
      ],
      "metadata": {
        "id": "RtbbIVwzd1ar"
      },
      "execution_count": 7,
      "outputs": []
    },
    {
      "cell_type": "code",
      "source": [
        "model = GradientBoostingClassifier(random_state=400)\n",
        "\n",
        "pipeline = Pipeline(steps=[('preprocessor', preprocessor),\n",
        "                             ('classifier', model)])\n",
        "\n",
        "pipeline.fit(x_train, y_train)\n",
        "\n",
        "y_val_pred = pipeline.predict(x_val)"
      ],
      "metadata": {
        "id": "tejk3U28d2Wk"
      },
      "execution_count": 8,
      "outputs": []
    },
    {
      "cell_type": "code",
      "source": [
        "print(\"Classification Report:\\n\", classification_report(y_val, y_val_pred))\n",
        "print(\"오차행렬:\\n\", confusion_matrix(y_val, y_val_pred, labels=[True, False]))\n",
        "print(\"\\n정확도: {:.4f}\".format(accuracy_score(y_val, y_val_pred)))\n",
        "print(\"정밀도: {:.4f}\".format(precision_score(y_val, y_val_pred, labels=[True, False])))\n",
        "print(\"재현율: {:.4f}\".format(recall_score(y_val, y_val_pred)))\n",
        "print(\"F1: {:.4f}\".format(f1_score(y_val, y_val_pred, labels=[True, False])))"
      ],
      "metadata": {
        "colab": {
          "base_uri": "https://localhost:8080/"
        },
        "id": "9JhsC-YleABl",
        "outputId": "06e56ae4-eb6d-4b93-cc1a-2dd60eae270f"
      },
      "execution_count": 9,
      "outputs": [
        {
          "output_type": "stream",
          "name": "stdout",
          "text": [
            "Classification Report:\n",
            "               precision    recall  f1-score   support\n",
            "\n",
            "       False       0.97      1.00      0.98     10913\n",
            "        True       0.94      0.60      0.73       947\n",
            "\n",
            "    accuracy                           0.96     11860\n",
            "   macro avg       0.95      0.80      0.86     11860\n",
            "weighted avg       0.96      0.96      0.96     11860\n",
            "\n",
            "오차행렬:\n",
            " [[  570   377]\n",
            " [   39 10874]]\n",
            "\n",
            "정확도: 0.9649\n",
            "정밀도: 0.9360\n",
            "재현율: 0.6019\n",
            "F1: 0.7326\n"
          ]
        }
      ]
    }
  ]
}