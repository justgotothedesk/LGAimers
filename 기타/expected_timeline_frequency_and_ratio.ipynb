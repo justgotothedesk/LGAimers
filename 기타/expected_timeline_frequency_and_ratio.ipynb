{
  "cells": [
    {
      "cell_type": "code",
      "source": [
        "import pandas as pd\n",
        "import numpy as np"
      ],
      "metadata": {
        "id": "oVy1MoPyo1u9"
      },
      "execution_count": 6,
      "outputs": []
    },
    {
      "cell_type": "code",
      "source": [
        "from google.colab import drive\n",
        "drive.mount('/content/drive')\n",
        "train_file_path = '/content/drive/MyDrive/LGdata/train.csv'\n",
        "test_file_path = '/content/drive/MyDrive/LGdata/submission.csv'\n",
        "df_train = pd.read_csv(train_file_path)\n",
        "df_test = pd.read_csv(test_file_path)"
      ],
      "metadata": {
        "colab": {
          "base_uri": "https://localhost:8080/"
        },
        "id": "6jJM6SWZo9Ft",
        "outputId": "55167910-1839-4722-a7c4-2c7a63ca8b18"
      },
      "execution_count": 7,
      "outputs": [
        {
          "output_type": "stream",
          "name": "stdout",
          "text": [
            "Drive already mounted at /content/drive; to attempt to forcibly remount, call drive.mount(\"/content/drive\", force_remount=True).\n"
          ]
        }
      ]
    },
    {
      "cell_type": "code",
      "source": [
        "import re\n",
        "from collections import Counter\n",
        "import pandas as pd\n",
        "\n",
        "all_words = ' '.join(df_train['expected_timeline'].dropna()).split()\n",
        "\n",
        "word_counts = Counter(all_words)\n",
        "\n",
        "word_conversion_ratios = {}\n",
        "for word in word_counts.keys():\n",
        "    escaped_word = re.escape(word)\n",
        "    is_converted_ratio = df_train[df_train['expected_timeline'].str.contains(escaped_word, case=False, na=False)]['is_converted'].mean()\n",
        "    word_conversion_ratios[word] = is_converted_ratio\n",
        "\n",
        "word_stats_df = pd.DataFrame({'Word': list(word_counts.keys()), 'Frequency': list(word_counts.values())})\n",
        "word_stats_df['is_converted_ratio'] = word_stats_df['Word'].map(word_conversion_ratios)\n",
        "word_stats_df = word_stats_df.sort_values(by=['is_converted_ratio', 'Frequency'], ascending=[True, False])"
      ],
      "metadata": {
        "id": "kr3QXIJ_o0qe"
      },
      "execution_count": 15,
      "outputs": []
    },
    {
      "cell_type": "code",
      "source": [
        "print(word_stats_df)\n",
        "word_stats_df.to_csv('word_stats.csv', index=False)"
      ],
      "metadata": {
        "colab": {
          "base_uri": "https://localhost:8080/"
        },
        "id": "ANDdnLBSro8n",
        "outputId": "5542ee80-bc50-4c1c-add9-f92515865a88"
      },
      "execution_count": 14,
      "outputs": [
        {
          "output_type": "stream",
          "name": "stdout",
          "text": [
            "          Word  Frequency  is_converted_ratio\n",
            "1026      etc.         95                 0.0\n",
            "32       hence         64                 0.0\n",
            "36     system.         53                 0.0\n",
            "115        any         41                 0.0\n",
            "112   although         36                 0.0\n",
            "...        ...        ...                 ...\n",
            "483        po.          1                 1.0\n",
            "769      ultra          1                 1.0\n",
            "770    stretch          1                 1.0\n",
            "852         45          1                 1.0\n",
            "1018     idbs.          1                 1.0\n",
            "\n",
            "[1028 rows x 3 columns]\n"
          ]
        }
      ]
    }
  ],
  "metadata": {
    "colab": {
      "provenance": []
    },
    "kernelspec": {
      "display_name": "Python 3",
      "name": "python3"
    },
    "language_info": {
      "name": "python"
    }
  },
  "nbformat": 4,
  "nbformat_minor": 0
}