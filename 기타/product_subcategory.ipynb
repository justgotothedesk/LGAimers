{
  "cells": [
    {
      "cell_type": "code",
      "source": [
        "import pandas as pd\n",
        "import numpy as np"
      ],
      "metadata": {
        "id": "oVy1MoPyo1u9"
      },
      "execution_count": null,
      "outputs": []
    },
    {
      "cell_type": "code",
      "source": [
        "from google.colab import drive\n",
        "drive.mount('/content/drive')\n",
        "train_file_path = '/content/drive/MyDrive/LGdata/train.csv'\n",
        "test_file_path = '/content/drive/MyDrive/LGdata/submission.csv'\n",
        "df_train = pd.read_csv(train_file_path)\n",
        "df_test = pd.read_csv(test_file_path)"
      ],
      "metadata": {
        "colab": {
          "base_uri": "https://localhost:8080/"
        },
        "id": "6jJM6SWZo9Ft",
        "outputId": "c64c653d-f3dd-4cb9-d656-aaea941f4bab"
      },
      "execution_count": null,
      "outputs": [
        {
          "output_type": "stream",
          "name": "stdout",
          "text": [
            "Mounted at /content/drive\n"
          ]
        }
      ]
    },
    {
      "cell_type": "code",
      "source": [
        "# 'product_subcategory'에 따른 갯수 계산\n",
        "subcategory_counts = df_train['product_subcategory'].value_counts()\n",
        "\n",
        "# 갯수가 top 10인 서브카테고리 선택\n",
        "top10_subcategories = subcategory_counts.nlargest(10).index\n",
        "top10_data = df_train[df_train['product_subcategory'].isin(top10_subcategories)]\n",
        "\n",
        "# 갯수 출력\n",
        "print(\"갯수:\")\n",
        "print(subcategory_counts.nlargest(10))\n",
        "\n",
        "# is_converted 비율 출력\n",
        "conversion_rates = top10_data.groupby('product_subcategory')['is_converted'].mean()\n",
        "print(\"\\nis_converted 비율:\")\n",
        "print(conversion_rates)\n"
      ],
      "metadata": {
        "colab": {
          "base_uri": "https://localhost:8080/"
        },
        "id": "RLGQnnz6rFvM",
        "outputId": "4680e347-8093-4fb5-ba04-df17365bd170"
      },
      "execution_count": 34,
      "outputs": [
        {
          "output_type": "stream",
          "name": "stdout",
          "text": [
            "갯수:\n",
            "All Medical Displays                      446\n",
            "Interactive Digital Board                 417\n",
            "TR3BF Series                              374\n",
            "Transparent OLED Signage                  288\n",
            "Diagnostic Monitors                       284\n",
            "Transparent LED Film                      280\n",
            "49\" 500 nits FHD Slim Bezel Video Wall    268\n",
            "TR3DJ Series                              246\n",
            "One:Quick Flex                            243\n",
            "One:Quick Works                           228\n",
            "Name: product_subcategory, dtype: int64\n",
            "\n",
            "is_converted 비율:\n",
            "product_subcategory\n",
            "49\" 500 nits FHD Slim Bezel Video Wall    0.156716\n",
            "All Medical Displays                      0.020179\n",
            "Diagnostic Monitors                       0.038732\n",
            "Interactive Digital Board                 0.203837\n",
            "One:Quick Flex                            0.139918\n",
            "One:Quick Works                           0.162281\n",
            "TR3BF Series                              0.133690\n",
            "TR3DJ Series                              0.154472\n",
            "Transparent LED Film                      0.128571\n",
            "Transparent OLED Signage                  0.142361\n",
            "Name: is_converted, dtype: float64\n"
          ]
        }
      ]
    }
  ],
  "metadata": {
    "colab": {
      "provenance": []
    },
    "kernelspec": {
      "display_name": "Python 3",
      "name": "python3"
    },
    "language_info": {
      "name": "python"
    }
  },
  "nbformat": 4,
  "nbformat_minor": 0
}