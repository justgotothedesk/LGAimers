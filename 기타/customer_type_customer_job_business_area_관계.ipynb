{
  "cells": [
    {
      "cell_type": "code",
      "source": [
        "import pandas as pd\n",
        "import numpy as np"
      ],
      "metadata": {
        "id": "oVy1MoPyo1u9"
      },
      "execution_count": null,
      "outputs": []
    },
    {
      "cell_type": "code",
      "source": [
        "from google.colab import drive\n",
        "drive.mount('/content/drive')\n",
        "train_file_path = '/content/drive/MyDrive/LGdata/train.csv'\n",
        "test_file_path = '/content/drive/MyDrive/LGdata/submission.csv'\n",
        "df_train = pd.read_csv(train_file_path)\n",
        "df_test = pd.read_csv(test_file_path)"
      ],
      "metadata": {
        "colab": {
          "base_uri": "https://localhost:8080/"
        },
        "id": "6jJM6SWZo9Ft",
        "outputId": "c64c653d-f3dd-4cb9-d656-aaea941f4bab"
      },
      "execution_count": null,
      "outputs": [
        {
          "output_type": "stream",
          "name": "stdout",
          "text": [
            "Mounted at /content/drive\n"
          ]
        }
      ]
    },
    {
      "cell_type": "code",
      "source": [
        "# 'customer_type'과 'customer_job'이 모두 결측치인 데이터 수 확인\n",
        "both_null_count = df_train[df_train['customer_type'].isnull() & df_train['customer_job'].isnull() & df_train['business_area']].shape[0]\n",
        "\n",
        "print(f\"'customer_type'과 'customer_job'이 모두 결측치인 데이터 수: {both_null_count}\")\n"
      ],
      "metadata": {
        "colab": {
          "base_uri": "https://localhost:8080/"
        },
        "id": "RLGQnnz6rFvM",
        "outputId": "949fe11b-557f-42e8-9f11-5f4f594cb1ea"
      },
      "execution_count": 20,
      "outputs": [
        {
          "output_type": "stream",
          "name": "stdout",
          "text": [
            "'customer_type'과 'customer_job'이 모두 결측치인 데이터 수: 1320\n"
          ]
        }
      ]
    },
    {
      "cell_type": "code",
      "source": [
        "df_train['customer_type'] = df_train['customer_type'].replace('End-Customer', 'End Customer')\n",
        "df_train['customer_type'] = df_train['customer_type'].replace('Specifier/ Influencer', 'Specifier / Influencer')"
      ],
      "metadata": {
        "id": "1axsFEQBtp7U"
      },
      "execution_count": 25,
      "outputs": []
    },
    {
      "cell_type": "code",
      "source": [
        "# 'customer_type'이 결측치가 없는 데이터 선택\n",
        "non_null_customer_type = df_train.dropna(subset=['customer_type'])\n",
        "\n",
        "# 'customer_job'에 따른 count\n",
        "count_by_customer_job = non_null_customer_type.groupby(['customer_type', 'customer_job']).size().reset_index(name='count')\n",
        "top10_customer_job = count_by_customer_job[count_by_customer_job['count'] >= 10].groupby('customer_type').apply(lambda x: x.nlargest(10, 'count')).reset_index(drop=True)\n",
        "\n",
        "# 'business_area'에 따른 count\n",
        "count_by_business_area = non_null_customer_type.groupby(['customer_type', 'business_area']).size().reset_index(name='count')\n",
        "top10_business_area = count_by_business_area[count_by_business_area['count'] >= 10].groupby('customer_type').apply(lambda x: x.nlargest(10, 'count')).reset_index(drop=True)\n",
        "\n",
        "print(\"Top 10 customer_job for each customer_type:\")\n",
        "print(top10_customer_job)\n",
        "\n",
        "print(\"\\nTop 10 business_area for each customer_type:\")\n",
        "print(top10_business_area)\n"
      ],
      "metadata": {
        "colab": {
          "base_uri": "https://localhost:8080/"
        },
        "id": "gT-Qjl1ipQhj",
        "outputId": "c79a7d8f-4e31-4212-8b6d-18f4e059d58a"
      },
      "execution_count": 26,
      "outputs": [
        {
          "output_type": "stream",
          "name": "stdout",
          "text": [
            "Top 10 customer_job for each customer_type:\n",
            "             customer_type                    customer_job  count\n",
            "0          Channel Partner                           sales    138\n",
            "1          Channel Partner                     engineering     87\n",
            "2          Channel Partner          information technology     87\n",
            "3          Channel Partner                  administrative     74\n",
            "4          Channel Partner            business development     67\n",
            "5          Channel Partner                      purchasing     53\n",
            "6          Channel Partner                           other     48\n",
            "7          Channel Partner                       marketing     47\n",
            "8          Channel Partner                entrepreneurship     37\n",
            "9          Channel Partner                      consulting     29\n",
            "10               Corporate                     engineering     16\n",
            "11               Developer                     engineering     10\n",
            "12            End Customer                     engineering    952\n",
            "13            End Customer                  administrative    850\n",
            "14            End Customer                           other    580\n",
            "15            End Customer                      purchasing    553\n",
            "16            End Customer          information technology    515\n",
            "17            End Customer            business development    303\n",
            "18            End Customer                      operations    303\n",
            "19            End Customer                           sales    301\n",
            "20            End Customer                       education    278\n",
            "21            End Customer                       marketing    216\n",
            "22                Engineer                     engineering     18\n",
            "23           HVAC Engineer                     engineering     14\n",
            "24    Installer/Contractor                     engineering     12\n",
            "25         Service Partner                     engineering     39\n",
            "26         Service Partner            business development     36\n",
            "27         Service Partner          information technology     32\n",
            "28         Service Partner                  administrative     27\n",
            "29         Service Partner                       marketing     25\n",
            "30         Service Partner                           sales     23\n",
            "31         Service Partner                           other     21\n",
            "32         Service Partner                      purchasing     19\n",
            "33         Service Partner                 arts and design     17\n",
            "34         Service Partner                entrepreneurship     16\n",
            "35    Solution Eco-Partner                     engineering     19\n",
            "36    Solution Eco-Partner          information technology     14\n",
            "37  Specifier / Influencer                     engineering    884\n",
            "38  Specifier / Influencer                      operations    236\n",
            "39  Specifier / Influencer                           other    143\n",
            "40  Specifier / Influencer                      consulting    140\n",
            "41  Specifier / Influencer                  administrative    122\n",
            "42  Specifier / Influencer            business development     96\n",
            "43  Specifier / Influencer                entrepreneurship     87\n",
            "44  Specifier / Influencer                           sales     87\n",
            "45  Specifier / Influencer                      purchasing     81\n",
            "46  Specifier / Influencer  program and project management     62\n",
            "\n",
            "Top 10 business_area for each customer_type:\n",
            "             customer_type                   business_area  count\n",
            "0          Channel Partner              corporate / office    199\n",
            "1          Channel Partner                          retail    186\n",
            "2          Channel Partner          hospital & health care     66\n",
            "3          Channel Partner                       education     41\n",
            "4          Channel Partner           government department     38\n",
            "5          Channel Partner                 special purpose     34\n",
            "6          Channel Partner                         factory     19\n",
            "7          Channel Partner                 public facility     18\n",
            "8          Channel Partner              residential (home)     18\n",
            "9          Channel Partner                  transportation     14\n",
            "10            End Customer              corporate / office   1113\n",
            "11            End Customer          hospital & health care    994\n",
            "12            End Customer                          retail    764\n",
            "13            End Customer                 special purpose    477\n",
            "14            End Customer                       education    469\n",
            "15            End Customer              residential (home)    351\n",
            "16            End Customer                         factory    301\n",
            "17            End Customer           government department    157\n",
            "18            End Customer                 public facility    129\n",
            "19            End Customer           hotel & accommodation    117\n",
            "20         Service Partner              corporate / office     63\n",
            "21         Service Partner                 special purpose     50\n",
            "22         Service Partner                          retail     44\n",
            "23         Service Partner                       education     20\n",
            "24         Service Partner          hospital & health care     18\n",
            "25         Service Partner           government department     16\n",
            "26         Service Partner                 public facility     12\n",
            "27    Solution Eco-Partner              corporate / office     27\n",
            "28    Solution Eco-Partner                 special purpose     13\n",
            "29    Solution Eco-Partner                          retail     11\n",
            "30  Specifier / Influencer              corporate / office    321\n",
            "31  Specifier / Influencer              residential (home)    222\n",
            "32  Specifier / Influencer                 special purpose    132\n",
            "33  Specifier / Influencer                          retail    109\n",
            "34  Specifier / Influencer          hospital & health care     70\n",
            "35  Specifier / Influencer                 public facility     55\n",
            "36  Specifier / Influencer                         factory     54\n",
            "37  Specifier / Influencer                       education     52\n",
            "38  Specifier / Influencer           government department     45\n",
            "39  Specifier / Influencer  power plant / renewable energy     18\n"
          ]
        }
      ]
    }
  ],
  "metadata": {
    "colab": {
      "provenance": []
    },
    "kernelspec": {
      "display_name": "Python 3",
      "name": "python3"
    },
    "language_info": {
      "name": "python"
    }
  },
  "nbformat": 4,
  "nbformat_minor": 0
}