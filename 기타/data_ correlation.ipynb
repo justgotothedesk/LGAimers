{
  "cells": [
    {
      "cell_type": "code",
      "execution_count": 2,
      "metadata": {
        "id": "LgyQMqQwPUBB"
      },
      "outputs": [],
      "source": [
        "import pandas as pd\n",
        "import numpy as np"
      ]
    },
    {
      "cell_type": "code",
      "execution_count": 3,
      "metadata": {
        "colab": {
          "base_uri": "https://localhost:8080/"
        },
        "id": "2eUhiATctbQc",
        "outputId": "9c94c9d8-34c6-4549-e4bb-cc01c519f8ba"
      },
      "outputs": [
        {
          "name": "stdout",
          "output_type": "stream",
          "text": [
            "Mounted at /content/drive\n"
          ]
        }
      ],
      "source": [
        "from google.colab import drive\n",
        "drive.mount('/content/drive')\n",
        "train_file_path = '/content/drive/MyDrive/LGdata/train.csv'\n",
        "test_file_path = '/content/drive/MyDrive/LGdata/submission.csv'\n",
        "df_train = pd.read_csv(train_file_path)\n",
        "df_test = pd.read_csv(test_file_path)"
      ]
    },
    {
      "cell_type": "code",
      "execution_count": 9,
      "metadata": {
        "colab": {
          "base_uri": "https://localhost:8080/"
        },
        "id": "9xS1j7X467ZW",
        "outputId": "bc609055-1c30-4137-cf53-ea090cb54386"
      },
      "outputs": [
        {
          "name": "stdout",
          "output_type": "stream",
          "text": [
            "                         Correlation with is_converted\n",
            "com_reg_ver_win_rate                          0.342590\n",
            "customer_idx                                 -0.056425\n",
            "customer_type                                      NaN\n",
            "enterprise                                         NaN\n",
            "historical_existing_cnt                      -0.004490\n",
            "id_strategic_ver                                   NaN\n",
            "it_strategic_ver                                   NaN\n",
            "idit_strategic_ver                                 NaN\n",
            "customer_job                                       NaN\n",
            "lead_desc_length                              0.112822\n",
            "inquiry_type                                       NaN\n",
            "product_category                                   NaN\n",
            "product_subcategory                                NaN\n",
            "product_modelname                                  NaN\n",
            "customer_country.1                                 NaN\n",
            "customer_position                                  NaN\n",
            "response_corporate                                 NaN\n",
            "expected_timeline                                  NaN\n",
            "ver_cus                                       0.063554\n",
            "ver_pro                                       0.008846\n",
            "ver_win_rate_x                               -0.048552\n",
            "ver_win_ratio_per_bu                          0.109572\n",
            "business_area                                      NaN\n",
            "business_subarea                                   NaN\n",
            "lead_owner                                    0.098862\n"
          ]
        },
        {
          "name": "stderr",
          "output_type": "stream",
          "text": [
            "/usr/local/lib/python3.10/dist-packages/numpy/lib/function_base.py:2889: RuntimeWarning: Degrees of freedom <= 0 for slice\n",
            "  c = cov(x, y, rowvar, dtype=dtype)\n",
            "/usr/local/lib/python3.10/dist-packages/numpy/lib/function_base.py:2748: RuntimeWarning: divide by zero encountered in divide\n",
            "  c *= np.true_divide(1, fact)\n"
          ]
        }
      ],
      "source": [
        "numeric_columns = [\n",
        "    'com_reg_ver_win_rate',\n",
        "    'customer_idx',\n",
        "    'customer_type',\n",
        "    'enterprise',\n",
        "    'historical_existing_cnt',\n",
        "    'id_strategic_ver',\n",
        "    'it_strategic_ver',\n",
        "    'idit_strategic_ver',\n",
        "    'customer_job',\n",
        "    'lead_desc_length',\n",
        "    'inquiry_type',\n",
        "    'product_category',\n",
        "    'product_subcategory',\n",
        "    'product_modelname',\n",
        "    'customer_country.1',\n",
        "    'customer_position',\n",
        "    'response_corporate',\n",
        "    'expected_timeline',\n",
        "    'ver_cus',\n",
        "    'ver_pro',\n",
        "    'ver_win_rate_x',\n",
        "    'ver_win_ratio_per_bu',\n",
        "    'business_area',\n",
        "    'business_subarea',\n",
        "    'lead_owner'\n",
        "]\n",
        "\n",
        "df_train[numeric_columns] = df_train[numeric_columns].apply(pd.to_numeric, errors='coerce')\n",
        "\n",
        "correlation_with_target = df_train[numeric_columns].apply(lambda x: x.corr(df_train['is_converted']))\n",
        "\n",
        "correlation_df = pd.DataFrame(correlation_with_target, columns=['Correlation with is_converted'])\n",
        "\n",
        "print(correlation_df)\n"
      ]
    }
  ],
  "metadata": {
    "colab": {
      "provenance": []
    },
    "kernelspec": {
      "display_name": "Python 3",
      "name": "python3"
    },
    "language_info": {
      "name": "python"
    }
  },
  "nbformat": 4,
  "nbformat_minor": 0
}
