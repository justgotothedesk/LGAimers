{
  "cells": [
    {
      "cell_type": "code",
      "source": [
        "import pandas as pd\n",
        "import numpy as np"
      ],
      "metadata": {
        "id": "oVy1MoPyo1u9"
      },
      "execution_count": 1,
      "outputs": []
    },
    {
      "cell_type": "code",
      "source": [
        "from google.colab import drive\n",
        "drive.mount('/content/drive')\n",
        "train_file_path = '/content/drive/MyDrive/LGdata/train.csv'\n",
        "test_file_path = '/content/drive/MyDrive/LGdata/submission.csv'\n",
        "df_train = pd.read_csv(train_file_path)\n",
        "df_test = pd.read_csv(test_file_path)"
      ],
      "metadata": {
        "colab": {
          "base_uri": "https://localhost:8080/"
        },
        "id": "6jJM6SWZo9Ft",
        "outputId": "07a5e750-f44c-46bd-ecfe-ee7d377da5f3"
      },
      "execution_count": 2,
      "outputs": [
        {
          "output_type": "stream",
          "name": "stdout",
          "text": [
            "Mounted at /content/drive\n"
          ]
        }
      ]
    },
    {
      "cell_type": "code",
      "source": [
        "# business_unit이 ID이면서 id_strategic_ver이 결측치인 데이터의 business_area 출력\n",
        "id_missing_data = df_train[(df_train['business_unit'] == 'ID') & (df_train['id_strategic_ver'].isnull())]\n",
        "id_missing_business_area = id_missing_data['business_area'].unique()\n",
        "print(\"business_unit이 ID이면서 id_strategic_ver이 결측치인 데이터의 business_area:\", id_missing_business_area)\n",
        "\n",
        "# business_unit이 IT이면서 it_strategic_ver이 결측치인 데이터의 business_area 출력\n",
        "it_missing_data = df_train[(df_train['business_unit'] == 'IT') & (df_train['it_strategic_ver'].isnull())]\n",
        "it_missing_business_area = it_missing_data['business_area'].unique()\n",
        "print(\"business_unit이 IT이면서 it_strategic_ver이 결측치인 데이터의 business_area:\", it_missing_business_area)\n"
      ],
      "metadata": {
        "colab": {
          "base_uri": "https://localhost:8080/"
        },
        "id": "7crjvCA7DQyP",
        "outputId": "2e64b962-9f36-4b6f-fcd2-dbb4e977d0c5"
      },
      "execution_count": 3,
      "outputs": [
        {
          "output_type": "stream",
          "name": "stdout",
          "text": [
            "business_unit이 ID이면서 id_strategic_ver이 결측치인 데이터의 business_area: [nan 'education' 'special purpose' 'hospital & health care'\n",
            " 'residential (home)' 'government department' 'retail' 'factory'\n",
            " 'power plant / renewable energy' 'transportation' 'public facility']\n",
            "business_unit이 IT이면서 it_strategic_ver이 결측치인 데이터의 business_area: [nan 'hospital & health care' 'special purpose' 'education'\n",
            " 'residential (home)' 'government department' 'retail' 'factory'\n",
            " 'power plant / renewable energy' 'transportation' 'public facility']\n"
          ]
        }
      ]
    },
    {
      "cell_type": "code",
      "source": [
        "# business_unit이 ID이면서 id_strategic_ver이 결측치가 아닌 데이터의 business_area 출력\n",
        "id_not_missing_data = df_train[(df_train['business_unit'] == 'ID') & (~df_train['id_strategic_ver'].isnull())]\n",
        "id_not_missing_business_area = id_not_missing_data['business_area'].unique()\n",
        "print(\"business_unit이 ID이면서 id_strategic_ver이 결측치가 아닌 데이터의 business_area:\", id_not_missing_business_area)\n",
        "\n",
        "# business_unit이 IT이면서 it_strategic_ver이 결측치가 아닌 데이터의 business_area 출력\n",
        "it_not_missing_data = df_train[(df_train['business_unit'] == 'IT') & (~df_train['it_strategic_ver'].isnull())]\n",
        "it_not_missing_business_area = it_not_missing_data['business_area'].unique()\n",
        "print(\"business_unit이 IT이면서 it_strategic_ver이 결측치가 아닌 데이터의 business_area:\", it_not_missing_business_area)\n"
      ],
      "metadata": {
        "colab": {
          "base_uri": "https://localhost:8080/"
        },
        "id": "3OZtU2bdYGNO",
        "outputId": "08eb1670-215c-429b-f04a-c64c6ac0fac2"
      },
      "execution_count": 4,
      "outputs": [
        {
          "output_type": "stream",
          "name": "stdout",
          "text": [
            "business_unit이 ID이면서 id_strategic_ver이 결측치가 아닌 데이터의 business_area: ['corporate / office' 'hotel & accommodation']\n",
            "business_unit이 IT이면서 it_strategic_ver이 결측치가 아닌 데이터의 business_area: ['corporate / office' 'hotel & accommodation']\n"
          ]
        }
      ]
    }
  ],
  "metadata": {
    "colab": {
      "provenance": []
    },
    "kernelspec": {
      "display_name": "Python 3",
      "name": "python3"
    },
    "language_info": {
      "name": "python"
    }
  },
  "nbformat": 4,
  "nbformat_minor": 0
}