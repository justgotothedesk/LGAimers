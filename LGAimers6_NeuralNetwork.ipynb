{
  "nbformat": 4,
  "nbformat_minor": 0,
  "metadata": {
    "colab": {
      "provenance": []
    },
    "kernelspec": {
      "name": "python3",
      "display_name": "Python 3"
    },
    "language_info": {
      "name": "python"
    }
  },
  "cells": [
    {
      "cell_type": "code",
      "execution_count": 1,
      "metadata": {
        "id": "q_qequx9el-I"
      },
      "outputs": [],
      "source": [
        "import torch\n",
        "import torch.nn as nn\n",
        "import torch.optim as optim\n",
        "from torch.utils.data import Dataset, DataLoader\n",
        "from sklearn.model_selection import train_test_split\n",
        "from sklearn.preprocessing import StandardScaler, OneHotEncoder\n",
        "from sklearn.compose import ColumnTransformer\n",
        "from sklearn.pipeline import Pipeline\n",
        "from sklearn.impute import SimpleImputer\n",
        "from sklearn.metrics import (\n",
        "    accuracy_score,\n",
        "    confusion_matrix,\n",
        "    f1_score,\n",
        "    precision_score,\n",
        "    recall_score,\n",
        "    classification_report\n",
        ")\n",
        "import pandas as pd\n",
        "import numpy as np"
      ]
    },
    {
      "cell_type": "code",
      "source": [
        "from google.colab import drive\n",
        "\n",
        "drive.mount('/content/drive')\n",
        "\n",
        "train_file_path = '/content/drive/MyDrive/LGdata/train.csv'\n",
        "test_file_path = '/content/drive/MyDrive/LGdata/submission.csv'\n",
        "\n",
        "df_train = pd.read_csv(train_file_path)\n",
        "df_test = pd.read_csv(test_file_path)"
      ],
      "metadata": {
        "colab": {
          "base_uri": "https://localhost:8080/"
        },
        "id": "bh3Y_L5Ne7cw",
        "outputId": "31730f89-329f-47c5-ec1d-17f53a9946a7"
      },
      "execution_count": 2,
      "outputs": [
        {
          "output_type": "stream",
          "name": "stdout",
          "text": [
            "Mounted at /content/drive\n"
          ]
        }
      ]
    },
    {
      "cell_type": "code",
      "source": [
        "class NeuralNetwork(nn.Module):\n",
        "    def __init__(self, input_size):\n",
        "        super(NeuralNetwork, self).__init__()\n",
        "        self.fc1 = nn.Linear(input_size, 64)\n",
        "        self.relu1 = nn.ReLU()\n",
        "        self.fc2 = nn.Linear(64, 32)\n",
        "        self.relu2 = nn.ReLU()\n",
        "        self.fc3 = nn.Linear(32, 1)\n",
        "        self.sigmoid = nn.Sigmoid()\n",
        "\n",
        "    def forward(self, x):\n",
        "        x = self.fc1(x)\n",
        "        x = self.relu1(x)\n",
        "        x = self.fc2(x)\n",
        "        x = self.relu2(x)\n",
        "        x = self.fc3(x)\n",
        "        x = self.sigmoid(x)\n",
        "        return x"
      ],
      "metadata": {
        "id": "KaLDpUo7fFGK"
      },
      "execution_count": 3,
      "outputs": []
    },
    {
      "cell_type": "code",
      "source": [
        "class CustomDataset(Dataset):\n",
        "    def __init__(self, features, labels):\n",
        "        self.features = torch.tensor(features, dtype=torch.float32)\n",
        "        self.labels = torch.from_numpy(labels.values).float()\n",
        "\n",
        "    def __len__(self):\n",
        "        return len(self.features)\n",
        "\n",
        "    def __getitem__(self, idx):\n",
        "        return self.features[idx], self.labels[idx]"
      ],
      "metadata": {
        "id": "yTRa5pUffKrp"
      },
      "execution_count": 15,
      "outputs": []
    },
    {
      "cell_type": "code",
      "source": [
        "label_columns = [\n",
        "    \"customer_country\",\n",
        "    \"business_subarea\",\n",
        "    \"business_area\",\n",
        "    \"business_unit\",\n",
        "    \"customer_type\",\n",
        "    \"enterprise\",\n",
        "    \"customer_job\",\n",
        "    \"inquiry_type\",\n",
        "    \"product_category\",\n",
        "    \"product_subcategory\",\n",
        "    \"product_modelname\",\n",
        "    \"customer_country.1\",\n",
        "    \"customer_position\",\n",
        "    \"response_corporate\",\n",
        "    \"expected_timeline\",\n",
        "]"
      ],
      "metadata": {
        "id": "IDZxWCaDfM3m"
      },
      "execution_count": 11,
      "outputs": []
    },
    {
      "cell_type": "code",
      "source": [
        "df_all = pd.concat([df_train[label_columns], df_test[label_columns]])\n",
        "\n",
        "for col in label_columns:\n",
        "    df_all[col] = pd.factorize(df_all[col])[0]\n",
        "\n",
        "for col in label_columns:\n",
        "    df_train[col] = df_all.iloc[:len(df_train)][col]\n",
        "    df_test[col] = df_all.iloc[len(df_train):][col]\n",
        "\n",
        "X = df_train.drop(\"is_converted\", axis=1)\n",
        "y = df_train[\"is_converted\"]\n",
        "\n",
        "X_train, X_val, y_train, y_val = train_test_split(X, y, test_size=0.2, random_state=42)"
      ],
      "metadata": {
        "id": "jYme5VIbfPww"
      },
      "execution_count": 12,
      "outputs": []
    },
    {
      "cell_type": "code",
      "source": [
        "numeric_features = X_train.select_dtypes(include=['int64', 'float64']).columns\n",
        "categorical_features = X_train.select_dtypes(include=['object']).columns\n",
        "\n",
        "numeric_transformer = Pipeline(steps=[\n",
        "    ('imputer', SimpleImputer(strategy='mean')),\n",
        "    ('scaler', StandardScaler())\n",
        "])\n",
        "\n",
        "categorical_transformer = Pipeline(steps=[\n",
        "    ('imputer', SimpleImputer(strategy='most_frequent')),\n",
        "    ('onehot', OneHotEncoder(handle_unknown='ignore'))\n",
        "])\n",
        "\n",
        "preprocessor = ColumnTransformer(\n",
        "    transformers=[\n",
        "        ('num', numeric_transformer, numeric_features),\n",
        "        ('cat', categorical_transformer, categorical_features)\n",
        "    ])\n",
        "\n",
        "X_train_processed = preprocessor.fit_transform(X_train)\n",
        "X_val_processed = preprocessor.transform(X_val)"
      ],
      "metadata": {
        "id": "7e98K6TMfXsU"
      },
      "execution_count": 13,
      "outputs": []
    },
    {
      "cell_type": "code",
      "source": [
        "train_dataset = CustomDataset(X_train_processed, y_train)\n",
        "val_dataset = CustomDataset(X_val_processed, y_val)\n",
        "\n",
        "train_loader = DataLoader(train_dataset, batch_size=64, shuffle=True)\n",
        "val_loader = DataLoader(val_dataset, batch_size=64, shuffle=False)"
      ],
      "metadata": {
        "id": "3Ac8BzhufbGQ"
      },
      "execution_count": 16,
      "outputs": []
    },
    {
      "cell_type": "code",
      "source": [
        "input_size = X_train_processed.shape[1]\n",
        "model = NeuralNetwork(input_size)"
      ],
      "metadata": {
        "id": "uzioG3tSgMfO"
      },
      "execution_count": 17,
      "outputs": []
    },
    {
      "cell_type": "code",
      "source": [
        "criterion = nn.BCELoss()\n",
        "optimizer = optim.Adam(model.parameters(), lr=0.001)"
      ],
      "metadata": {
        "id": "1k62NOvdgOt9"
      },
      "execution_count": 18,
      "outputs": []
    },
    {
      "cell_type": "code",
      "source": [
        "num_epochs = 10\n",
        "for epoch in range(num_epochs):\n",
        "    model.train()\n",
        "    for inputs, labels in train_loader:\n",
        "        optimizer.zero_grad()\n",
        "        outputs = model(inputs)\n",
        "        loss = criterion(outputs.squeeze(), labels)\n",
        "        loss.backward()\n",
        "        optimizer.step()\n",
        "\n",
        "    model.eval()\n",
        "    val_outputs = []\n",
        "    val_labels = []\n",
        "    with torch.no_grad():\n",
        "        for inputs, labels in val_loader:\n",
        "            outputs = model(inputs)\n",
        "            val_outputs.extend(outputs.squeeze().numpy())\n",
        "            val_labels.extend(labels.numpy())\n",
        "\n",
        "    val_outputs = np.array(val_outputs)\n",
        "    val_labels = np.array(val_labels)\n",
        "\n",
        "    val_preds = (val_outputs > 0.5).astype(float)\n",
        "\n",
        "    val_accuracy = accuracy_score(val_labels, val_preds)\n",
        "    val_precision = precision_score(val_labels, val_preds)\n",
        "    val_recall = recall_score(val_labels, val_preds)\n",
        "    val_f1 = f1_score(val_labels, val_preds)\n",
        "\n",
        "    print(f\"Epoch {epoch+1}/{num_epochs}\\n 정확도: {val_accuracy:.4f}\\n 정밀도: {val_precision:.4f}\\n 재현율: {val_recall:.4f}\\n F1: {val_f1:.4f}\")\n"
      ],
      "metadata": {
        "colab": {
          "base_uri": "https://localhost:8080/"
        },
        "id": "ohEyKIvigQCC",
        "outputId": "2d39c1e1-da4a-48e4-e1e6-40e875fce128"
      },
      "execution_count": 19,
      "outputs": [
        {
          "output_type": "stream",
          "name": "stdout",
          "text": [
            "Epoch 1/10\n",
            " 정확도: 0.9210\n",
            " 정밀도: 0.5863\n",
            " 재현율: 0.1655\n",
            " F1: 0.2581\n",
            "Epoch 2/10\n",
            " 정확도: 0.9415\n",
            " 정밀도: 0.8299\n",
            " 재현율: 0.3716\n",
            " F1: 0.5133\n",
            "Epoch 3/10\n",
            " 정확도: 0.9469\n",
            " 정밀도: 0.8515\n",
            " 재현율: 0.4365\n",
            " F1: 0.5772\n",
            "Epoch 4/10\n",
            " 정확도: 0.9508\n",
            " 정밀도: 0.8722\n",
            " 재현율: 0.4782\n",
            " F1: 0.6177\n",
            "Epoch 5/10\n",
            " 정확도: 0.9520\n",
            " 정밀도: 0.8478\n",
            " 재현율: 0.5147\n",
            " F1: 0.6406\n",
            "Epoch 6/10\n",
            " 정확도: 0.9527\n",
            " 정밀도: 0.8430\n",
            " 재현율: 0.5289\n",
            " F1: 0.6500\n",
            "Epoch 7/10\n",
            " 정확도: 0.9535\n",
            " 정밀도: 0.8581\n",
            " 재현율: 0.5279\n",
            " F1: 0.6537\n",
            "Epoch 8/10\n",
            " 정확도: 0.9546\n",
            " 정밀도: 0.8528\n",
            " 재현율: 0.5472\n",
            " F1: 0.6667\n",
            "Epoch 9/10\n",
            " 정확도: 0.9533\n",
            " 정밀도: 0.8231\n",
            " 재현율: 0.5574\n",
            " F1: 0.6646\n",
            "Epoch 10/10\n",
            " 정확도: 0.9533\n",
            " 정밀도: 0.8404\n",
            " 재현율: 0.5401\n",
            " F1: 0.6576\n"
          ]
        }
      ]
    }
  ]
}