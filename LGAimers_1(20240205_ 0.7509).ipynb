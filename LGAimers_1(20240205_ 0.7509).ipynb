{
  "nbformat": 4,
  "nbformat_minor": 0,
  "metadata": {
    "colab": {
      "provenance": [],
      "gpuType": "T4"
    },
    "kernelspec": {
      "name": "python3",
      "display_name": "Python 3"
    },
    "language_info": {
      "name": "python"
    },
    "accelerator": "GPU"
  },
  "cells": [
    {
      "cell_type": "code",
      "execution_count": 1,
      "metadata": {
        "id": "9aZDgdc69ACL"
      },
      "outputs": [],
      "source": [
        "import pandas as pd\n",
        "import numpy as np\n",
        "from sklearn.metrics import (\n",
        "    accuracy_score,\n",
        "    confusion_matrix,\n",
        "    f1_score,\n",
        "    precision_score,\n",
        "    recall_score,\n",
        ")\n",
        "from sklearn.model_selection import train_test_split\n",
        "from sklearn.tree import DecisionTreeClassifier"
      ]
    },
    {
      "cell_type": "code",
      "source": [
        "from google.colab import drive\n",
        "\n",
        "drive.mount('/content/drive')\n",
        "\n",
        "train_file_path = '/content/drive/MyDrive/LGdata/train.csv'\n",
        "test_file_path = '/content/drive/MyDrive/LGdata/submission.csv'\n",
        "\n",
        "df_train = pd.read_csv(train_file_path)\n",
        "df_test = pd.read_csv(test_file_path)"
      ],
      "metadata": {
        "colab": {
          "base_uri": "https://localhost:8080/"
        },
        "id": "LCyt4yJv9lDJ",
        "outputId": "9b80bcb9-c80d-4226-bd75-ffde99081f1a"
      },
      "execution_count": 3,
      "outputs": [
        {
          "output_type": "stream",
          "name": "stdout",
          "text": [
            "Drive already mounted at /content/drive; to attempt to forcibly remount, call drive.mount(\"/content/drive\", force_remount=True).\n"
          ]
        }
      ]
    },
    {
      "cell_type": "code",
      "source": [
        "print(df_train.head())"
      ],
      "metadata": {
        "colab": {
          "base_uri": "https://localhost:8080/"
        },
        "id": "drKkBpk7-XP7",
        "outputId": "8ccd460c-3d13-4107-f456-14e86ef0cd2f"
      },
      "execution_count": 4,
      "outputs": [
        {
          "output_type": "stream",
          "name": "stdout",
          "text": [
            "   bant_submit          customer_country business_unit  com_reg_ver_win_rate  \\\n",
            "0          1.0  /Quezon City/Philippines            AS              0.066667   \n",
            "1          1.0        /PH-00/Philippines            AS              0.066667   \n",
            "2          1.0           /Kolkata /India            AS              0.088889   \n",
            "3          1.0        /Bhubaneswar/India            AS              0.088889   \n",
            "4          1.0          /Hyderabad/India            AS              0.088889   \n",
            "\n",
            "   customer_idx          customer_type  enterprise  historical_existing_cnt  \\\n",
            "0         32160           End-Customer  Enterprise                      NaN   \n",
            "1         23122           End-Customer  Enterprise                     12.0   \n",
            "2          1755           End-Customer  Enterprise                    144.0   \n",
            "3          4919           End-Customer  Enterprise                      NaN   \n",
            "4         17126  Specifier/ Influencer  Enterprise                      NaN   \n",
            "\n",
            "   id_strategic_ver  it_strategic_ver  ...  response_corporate  \\\n",
            "0               NaN               NaN  ...               LGEPH   \n",
            "1               NaN               NaN  ...               LGEPH   \n",
            "2               NaN               NaN  ...               LGEIL   \n",
            "3               NaN               NaN  ...               LGEIL   \n",
            "4               NaN               NaN  ...               LGEIL   \n",
            "\n",
            "    expected_timeline  ver_cus ver_pro ver_win_rate_x ver_win_ratio_per_bu  \\\n",
            "0  less than 3 months        1       0       0.003079             0.026846   \n",
            "1  less than 3 months        1       0       0.003079             0.026846   \n",
            "2  less than 3 months        1       0       0.003079             0.026846   \n",
            "3  less than 3 months        1       0       0.003079             0.026846   \n",
            "4  less than 3 months        0       0       0.003079             0.026846   \n",
            "\n",
            "        business_area business_subarea lead_owner is_converted  \n",
            "0  corporate / office      Engineering          0         True  \n",
            "1  corporate / office      Advertising          1         True  \n",
            "2  corporate / office     Construction          2         True  \n",
            "3  corporate / office      IT/Software          3         True  \n",
            "4  corporate / office              NaN          4         True  \n",
            "\n",
            "[5 rows x 29 columns]\n"
          ]
        }
      ]
    },
    {
      "cell_type": "code",
      "source": [
        "print(df_test.head())"
      ],
      "metadata": {
        "colab": {
          "base_uri": "https://localhost:8080/"
        },
        "id": "FX-TStn1-eZb",
        "outputId": "f2bd18ed-b454-423c-d7b0-2fdfc50c7277"
      },
      "execution_count": 5,
      "outputs": [
        {
          "output_type": "stream",
          "name": "stdout",
          "text": [
            "      id  bant_submit                                   customer_country  \\\n",
            "0  19844         0.00                                        /  / Brazil   \n",
            "1   9738         0.25  400 N State Of Franklin Rd  Cloud IT / Johnson...   \n",
            "2   8491         1.00                                         /  / U.A.E   \n",
            "3  19895         0.50                         / Madison  / United States   \n",
            "4  10465         1.00                               / Sao Paulo / Brazil   \n",
            "\n",
            "  business_unit  com_reg_ver_win_rate  customer_idx          customer_type  \\\n",
            "0            ID              0.073248         47466           End Customer   \n",
            "1            IT                   NaN          5405           End Customer   \n",
            "2            ID                   NaN         13597  Specifier/ Influencer   \n",
            "3            ID              0.118644         17204                    NaN   \n",
            "4            ID              0.074949          2329           End Customer   \n",
            "\n",
            "   enterprise  historical_existing_cnt  id_strategic_ver  ...  \\\n",
            "0  Enterprise                     53.0               NaN  ...   \n",
            "1         SMB                      NaN               NaN  ...   \n",
            "2         SMB                      NaN               NaN  ...   \n",
            "3  Enterprise                      NaN               NaN  ...   \n",
            "4  Enterprise                      2.0               1.0  ...   \n",
            "\n",
            "   response_corporate   expected_timeline ver_cus  ver_pro ver_win_rate_x  \\\n",
            "0               LGESP                 NaN       1        0       0.001183   \n",
            "1               LGEUS                 NaN       0        0       0.000013   \n",
            "2               LGEGF  less than 3 months       0        0       0.000060   \n",
            "3               LGEUS    more than a year       0        0       0.001183   \n",
            "4               LGESP  less than 3 months       1        1       0.003079   \n",
            "\n",
            "  ver_win_ratio_per_bu           business_area     business_subarea  \\\n",
            "0             0.049840                  retail  Electronics & Telco   \n",
            "1                  NaN          transportation               Others   \n",
            "2             0.131148  hospital & health care     General Hospital   \n",
            "3             0.049840                  retail                  NaN   \n",
            "4             0.064566      corporate / office          Engineering   \n",
            "\n",
            "  lead_owner is_converted  \n",
            "0        278          NaN  \n",
            "1        437          NaN  \n",
            "2        874          NaN  \n",
            "3        194          NaN  \n",
            "4        167          NaN  \n",
            "\n",
            "[5 rows x 30 columns]\n"
          ]
        }
      ]
    },
    {
      "cell_type": "code",
      "source": [
        "def label_encoding(series: pd.Series) -> pd.Series:\n",
        "    my_dict = {}\n",
        "\n",
        "    series = series.astype(str)\n",
        "\n",
        "    for idx, value in enumerate(sorted(series.unique())):\n",
        "        my_dict[value] = idx\n",
        "    series = series.map(my_dict)\n",
        "\n",
        "    return series"
      ],
      "metadata": {
        "id": "iwx-c2tdAqQg"
      },
      "execution_count": 6,
      "outputs": []
    },
    {
      "cell_type": "code",
      "source": [
        "label_columns = [\n",
        "    \"customer_country\",\n",
        "    \"business_subarea\",\n",
        "    \"business_area\",\n",
        "    \"business_unit\",\n",
        "    \"customer_type\",\n",
        "    \"enterprise\",\n",
        "    \"customer_job\",\n",
        "    \"inquiry_type\",\n",
        "    \"product_category\",\n",
        "    \"product_subcategory\",\n",
        "    \"product_modelname\",\n",
        "    \"customer_country.1\",\n",
        "    \"customer_position\",\n",
        "    \"response_corporate\",\n",
        "    \"expected_timeline\",\n",
        "]\n",
        "\n",
        "df_all = pd.concat([df_train[label_columns], df_test[label_columns]])\n",
        "\n",
        "for col in label_columns:\n",
        "    df_all[col] = label_encoding(df_all[col])"
      ],
      "metadata": {
        "id": "3MW-bZy6AtNY"
      },
      "execution_count": 7,
      "outputs": []
    },
    {
      "cell_type": "code",
      "source": [
        "for col in label_columns:\n",
        "    df_train[col] = df_all.iloc[: len(df_train)][col]\n",
        "    df_test[col] = df_all.iloc[len(df_train) :][col]"
      ],
      "metadata": {
        "id": "rdTAHm0CBCQJ"
      },
      "execution_count": 8,
      "outputs": []
    },
    {
      "cell_type": "code",
      "source": [
        "x_train, x_val, y_train, y_val = train_test_split(\n",
        "    df_train.drop(\"is_converted\", axis=1),\n",
        "    df_train[\"is_converted\"],\n",
        "    test_size=0.2,\n",
        "    shuffle=True,\n",
        "    random_state=400,\n",
        ")"
      ],
      "metadata": {
        "id": "pA5GxyKMBLD6"
      },
      "execution_count": 9,
      "outputs": []
    },
    {
      "cell_type": "code",
      "source": [
        "model = DecisionTreeClassifier()"
      ],
      "metadata": {
        "id": "Oj7IiMwfBMeW"
      },
      "execution_count": 10,
      "outputs": []
    },
    {
      "cell_type": "code",
      "source": [
        "model.fit(x_train.fillna(0), y_train)"
      ],
      "metadata": {
        "colab": {
          "base_uri": "https://localhost:8080/",
          "height": 74
        },
        "id": "2o52IAcpBOM_",
        "outputId": "e555310d-18ef-4add-d1b4-1f3931d12bea"
      },
      "execution_count": 11,
      "outputs": [
        {
          "output_type": "execute_result",
          "data": {
            "text/plain": [
              "DecisionTreeClassifier()"
            ],
            "text/html": [
              "<style>#sk-container-id-1 {color: black;background-color: white;}#sk-container-id-1 pre{padding: 0;}#sk-container-id-1 div.sk-toggleable {background-color: white;}#sk-container-id-1 label.sk-toggleable__label {cursor: pointer;display: block;width: 100%;margin-bottom: 0;padding: 0.3em;box-sizing: border-box;text-align: center;}#sk-container-id-1 label.sk-toggleable__label-arrow:before {content: \"▸\";float: left;margin-right: 0.25em;color: #696969;}#sk-container-id-1 label.sk-toggleable__label-arrow:hover:before {color: black;}#sk-container-id-1 div.sk-estimator:hover label.sk-toggleable__label-arrow:before {color: black;}#sk-container-id-1 div.sk-toggleable__content {max-height: 0;max-width: 0;overflow: hidden;text-align: left;background-color: #f0f8ff;}#sk-container-id-1 div.sk-toggleable__content pre {margin: 0.2em;color: black;border-radius: 0.25em;background-color: #f0f8ff;}#sk-container-id-1 input.sk-toggleable__control:checked~div.sk-toggleable__content {max-height: 200px;max-width: 100%;overflow: auto;}#sk-container-id-1 input.sk-toggleable__control:checked~label.sk-toggleable__label-arrow:before {content: \"▾\";}#sk-container-id-1 div.sk-estimator input.sk-toggleable__control:checked~label.sk-toggleable__label {background-color: #d4ebff;}#sk-container-id-1 div.sk-label input.sk-toggleable__control:checked~label.sk-toggleable__label {background-color: #d4ebff;}#sk-container-id-1 input.sk-hidden--visually {border: 0;clip: rect(1px 1px 1px 1px);clip: rect(1px, 1px, 1px, 1px);height: 1px;margin: -1px;overflow: hidden;padding: 0;position: absolute;width: 1px;}#sk-container-id-1 div.sk-estimator {font-family: monospace;background-color: #f0f8ff;border: 1px dotted black;border-radius: 0.25em;box-sizing: border-box;margin-bottom: 0.5em;}#sk-container-id-1 div.sk-estimator:hover {background-color: #d4ebff;}#sk-container-id-1 div.sk-parallel-item::after {content: \"\";width: 100%;border-bottom: 1px solid gray;flex-grow: 1;}#sk-container-id-1 div.sk-label:hover label.sk-toggleable__label {background-color: #d4ebff;}#sk-container-id-1 div.sk-serial::before {content: \"\";position: absolute;border-left: 1px solid gray;box-sizing: border-box;top: 0;bottom: 0;left: 50%;z-index: 0;}#sk-container-id-1 div.sk-serial {display: flex;flex-direction: column;align-items: center;background-color: white;padding-right: 0.2em;padding-left: 0.2em;position: relative;}#sk-container-id-1 div.sk-item {position: relative;z-index: 1;}#sk-container-id-1 div.sk-parallel {display: flex;align-items: stretch;justify-content: center;background-color: white;position: relative;}#sk-container-id-1 div.sk-item::before, #sk-container-id-1 div.sk-parallel-item::before {content: \"\";position: absolute;border-left: 1px solid gray;box-sizing: border-box;top: 0;bottom: 0;left: 50%;z-index: -1;}#sk-container-id-1 div.sk-parallel-item {display: flex;flex-direction: column;z-index: 1;position: relative;background-color: white;}#sk-container-id-1 div.sk-parallel-item:first-child::after {align-self: flex-end;width: 50%;}#sk-container-id-1 div.sk-parallel-item:last-child::after {align-self: flex-start;width: 50%;}#sk-container-id-1 div.sk-parallel-item:only-child::after {width: 0;}#sk-container-id-1 div.sk-dashed-wrapped {border: 1px dashed gray;margin: 0 0.4em 0.5em 0.4em;box-sizing: border-box;padding-bottom: 0.4em;background-color: white;}#sk-container-id-1 div.sk-label label {font-family: monospace;font-weight: bold;display: inline-block;line-height: 1.2em;}#sk-container-id-1 div.sk-label-container {text-align: center;}#sk-container-id-1 div.sk-container {/* jupyter's `normalize.less` sets `[hidden] { display: none; }` but bootstrap.min.css set `[hidden] { display: none !important; }` so we also need the `!important` here to be able to override the default hidden behavior on the sphinx rendered scikit-learn.org. See: https://github.com/scikit-learn/scikit-learn/issues/21755 */display: inline-block !important;position: relative;}#sk-container-id-1 div.sk-text-repr-fallback {display: none;}</style><div id=\"sk-container-id-1\" class=\"sk-top-container\"><div class=\"sk-text-repr-fallback\"><pre>DecisionTreeClassifier()</pre><b>In a Jupyter environment, please rerun this cell to show the HTML representation or trust the notebook. <br />On GitHub, the HTML representation is unable to render, please try loading this page with nbviewer.org.</b></div><div class=\"sk-container\" hidden><div class=\"sk-item\"><div class=\"sk-estimator sk-toggleable\"><input class=\"sk-toggleable__control sk-hidden--visually\" id=\"sk-estimator-id-1\" type=\"checkbox\" checked><label for=\"sk-estimator-id-1\" class=\"sk-toggleable__label sk-toggleable__label-arrow\">DecisionTreeClassifier</label><div class=\"sk-toggleable__content\"><pre>DecisionTreeClassifier()</pre></div></div></div></div></div>"
            ]
          },
          "metadata": {},
          "execution_count": 11
        }
      ]
    },
    {
      "cell_type": "code",
      "source": [
        "def get_clf_eval(y_test, y_pred=None):\n",
        "    confusion = confusion_matrix(y_test, y_pred, labels=[True, False])\n",
        "    accuracy = accuracy_score(y_test, y_pred)\n",
        "    precision = precision_score(y_test, y_pred, labels=[True, False])\n",
        "    recall = recall_score(y_test, y_pred)\n",
        "    F1 = f1_score(y_test, y_pred, labels=[True, False])\n",
        "\n",
        "    print(\"오차행렬:\\n\", confusion)\n",
        "    print(\"\\n정확도: {:.4f}\".format(accuracy))\n",
        "    print(\"정밀도: {:.4f}\".format(precision))\n",
        "    print(\"재현율: {:.4f}\".format(recall))\n",
        "    print(\"F1: {:.4f}\".format(F1))"
      ],
      "metadata": {
        "id": "KIsF3eHaBRug"
      },
      "execution_count": 12,
      "outputs": []
    },
    {
      "cell_type": "code",
      "source": [
        "pred = model.predict(x_val.fillna(0))\n",
        "get_clf_eval(y_val, pred)"
      ],
      "metadata": {
        "colab": {
          "base_uri": "https://localhost:8080/"
        },
        "id": "h_bKj1vPBTiK",
        "outputId": "5be3fbcf-2ddd-49ac-fe54-d3f57d2f8b0f"
      },
      "execution_count": 13,
      "outputs": [
        {
          "output_type": "stream",
          "name": "stdout",
          "text": [
            "오차행렬:\n",
            " [[  734   213]\n",
            " [  274 10639]]\n",
            "\n",
            "정확도: 0.9589\n",
            "정밀도: 0.7282\n",
            "재현율: 0.7751\n",
            "F1: 0.7509\n"
          ]
        }
      ]
    },
    {
      "cell_type": "code",
      "source": [
        "x_test = df_test.drop([\"is_converted\", \"id\"], axis=1)"
      ],
      "metadata": {
        "id": "sZTQsGLOBX5U"
      },
      "execution_count": 14,
      "outputs": []
    },
    {
      "cell_type": "code",
      "source": [
        "test_pred = model.predict(x_test.fillna(0))\n",
        "sum(test_pred)"
      ],
      "metadata": {
        "colab": {
          "base_uri": "https://localhost:8080/"
        },
        "id": "GeM9yOYpBl9z",
        "outputId": "fc7d2501-928b-425c-d1a1-cccfda2564c1"
      },
      "execution_count": 15,
      "outputs": [
        {
          "output_type": "execute_result",
          "data": {
            "text/plain": [
              "1185"
            ]
          },
          "metadata": {},
          "execution_count": 15
        }
      ]
    },
    {
      "cell_type": "code",
      "source": [
        "test_file_path = '/content/drive/MyDrive/LGdata/submission.csv'\n",
        "df_sub = pd.read_csv(test_file_path)\n",
        "df_sub[\"is_converted\"] = test_pred"
      ],
      "metadata": {
        "id": "EqpTsAPgBnxy"
      },
      "execution_count": 17,
      "outputs": []
    }
  ]
}