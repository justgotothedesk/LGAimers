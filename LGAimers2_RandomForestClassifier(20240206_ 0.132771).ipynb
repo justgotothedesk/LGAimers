{
  "cells": [
    {
      "cell_type": "code",
      "execution_count": null,
      "metadata": {
        "id": "Cr3N2vMCSlpc"
      },
      "outputs": [],
      "source": [
        "import pandas as pd\n",
        "from sklearn.model_selection import train_test_split\n",
        "from sklearn.compose import ColumnTransformer\n",
        "from sklearn.pipeline import Pipeline\n",
        "from sklearn.impute import SimpleImputer\n",
        "from sklearn.preprocessing import StandardScaler, OneHotEncoder\n",
        "from sklearn.ensemble import RandomForestClassifier\n",
        "from sklearn.metrics import (\n",
        "    accuracy_score,\n",
        "    confusion_matrix,\n",
        "    f1_score,\n",
        "    precision_score,\n",
        "    recall_score,\n",
        "    classification_report\n",
        ")\n"
      ]
    },
    {
      "cell_type": "code",
      "execution_count": null,
      "metadata": {
        "colab": {
          "base_uri": "https://localhost:8080/"
        },
        "id": "4KODhGsoS0nm",
        "outputId": "d08f1138-0214-4f07-b48e-42eaaf0cb81e"
      },
      "outputs": [
        {
          "output_type": "stream",
          "name": "stdout",
          "text": [
            "Drive already mounted at /content/drive; to attempt to forcibly remount, call drive.mount(\"/content/drive\", force_remount=True).\n"
          ]
        }
      ],
      "source": [
        "from google.colab import drive\n",
        "\n",
        "drive.mount('/content/drive')\n",
        "\n",
        "train_file_path = '/content/drive/MyDrive/LGdata/train.csv'\n",
        "test_file_path = '/content/drive/MyDrive/LGdata/submission_updated.csv'\n",
        "\n",
        "df_train = pd.read_csv(train_file_path)\n",
        "df_test = pd.read_csv(test_file_path)"
      ]
    },
    {
      "cell_type": "code",
      "source": [
        "def label_encoding(series: pd.Series) -> pd.Series:\n",
        "    my_dict = {}\n",
        "\n",
        "    series = series.astype(str)\n",
        "\n",
        "    for idx, value in enumerate(sorted(series.unique())):\n",
        "        my_dict[value] = idx\n",
        "    series = series.map(my_dict)\n",
        "\n",
        "    return series"
      ],
      "metadata": {
        "id": "PU5X7vS5jAwk"
      },
      "execution_count": null,
      "outputs": []
    },
    {
      "cell_type": "code",
      "source": [
        "label_columns = [\n",
        "    \"customer_country\",\n",
        "    \"business_subarea\",\n",
        "    \"business_area\",\n",
        "    \"business_unit\",\n",
        "    \"customer_type\",\n",
        "    \"enterprise\",\n",
        "    \"customer_job\",\n",
        "    \"inquiry_type\",\n",
        "    \"product_category\",\n",
        "    \"product_subcategory\",\n",
        "    \"product_modelname\",\n",
        "    \"customer_country.1\",\n",
        "    \"customer_position\",\n",
        "    \"response_corporate\",\n",
        "    \"expected_timeline\",\n",
        "]\n",
        "\n",
        "df_all = pd.concat([df_train[label_columns], df_test[label_columns]])\n",
        "\n",
        "for col in label_columns:\n",
        "    df_all[col] = label_encoding(df_all[col])"
      ],
      "metadata": {
        "id": "cNiDCS_4jEYQ"
      },
      "execution_count": null,
      "outputs": []
    },
    {
      "cell_type": "code",
      "source": [
        "for col in label_columns:\n",
        "    df_train[col] = df_all.iloc[: len(df_train)][col]\n",
        "    df_test[col] = df_all.iloc[len(df_train) :][col]"
      ],
      "metadata": {
        "id": "Lt6ZCDghjIaI"
      },
      "execution_count": null,
      "outputs": []
    },
    {
      "cell_type": "code",
      "source": [
        "x_train, x_val, y_train, y_val = train_test_split(\n",
        "    df_train.drop(\"is_converted\", axis=1),\n",
        "    df_train[\"is_converted\"],\n",
        "    test_size=0.2,\n",
        "    shuffle=True,\n",
        "    random_state=400,\n",
        ")"
      ],
      "metadata": {
        "id": "NblXjeIUjJ4l"
      },
      "execution_count": null,
      "outputs": []
    },
    {
      "cell_type": "code",
      "execution_count": null,
      "metadata": {
        "id": "MkK_-4rWS9-l"
      },
      "outputs": [],
      "source": [
        "numeric_features = x_train.select_dtypes(include=['int64', 'float64']).columns\n",
        "categorical_features = x_train.select_dtypes(include=['object']).columns\n",
        "\n",
        "numeric_transformer = Pipeline(steps=[\n",
        "    ('imputer', SimpleImputer(strategy='mean')),\n",
        "    ('scaler', StandardScaler())\n",
        "])\n",
        "\n",
        "categorical_transformer = Pipeline(steps=[\n",
        "    ('imputer', SimpleImputer(strategy='most_frequent')),\n",
        "    ('onehot', OneHotEncoder(handle_unknown='ignore'))\n",
        "])\n",
        "\n",
        "preprocessor = ColumnTransformer(\n",
        "    transformers=[\n",
        "        ('num', numeric_transformer, numeric_features),\n",
        "        ('cat', categorical_transformer, categorical_features)\n",
        "    ])"
      ]
    },
    {
      "cell_type": "code",
      "execution_count": null,
      "metadata": {
        "id": "NKSur4QyhiEj"
      },
      "outputs": [],
      "source": [
        "model = RandomForestClassifier(random_state=400)\n",
        "\n",
        "pipeline = Pipeline(steps=[('preprocessor', preprocessor),\n",
        "                           ('classifier', model)])\n",
        "\n",
        "pipeline.fit(x_train, y_train)\n",
        "\n",
        "y_val_pred = pipeline.predict(x_val) # F1_score : 0.8107\n",
        "# y_val_pred = pipeline.predict(x_val.fillna(0)) # F1_score : 0.2725"
      ]
    },
    {
      "cell_type": "code",
      "source": [
        "print(\"Classification Report:\\n\", classification_report(y_val, y_val_pred))\n",
        "print(\"오차행렬:\\n\", confusion_matrix(y_val, y_val_pred, labels=[True, False]))\n",
        "print(\"\\n정확도: {:.4f}\".format(accuracy_score(y_val, y_val_pred)))\n",
        "print(\"정밀도: {:.4f}\".format(precision_score(y_val, y_val_pred), labels=[True, False]))\n",
        "print(\"재현율: {:.4f}\".format(recall_score(y_val, y_val_pred)))\n",
        "print(\"F1: {:.4f}\".format(f1_score(y_val, y_val_pred), labels=[True, False]))"
      ],
      "metadata": {
        "colab": {
          "base_uri": "https://localhost:8080/"
        },
        "id": "xL73QE-dlyxs",
        "outputId": "a41f4eeb-7da5-4957-e06f-6dc8ffde1ebd"
      },
      "execution_count": null,
      "outputs": [
        {
          "output_type": "stream",
          "name": "stdout",
          "text": [
            "Classification Report:\n",
            "               precision    recall  f1-score   support\n",
            "\n",
            "       False       0.97      1.00      0.99     10913\n",
            "        True       0.96      0.70      0.81       947\n",
            "\n",
            "    accuracy                           0.97     11860\n",
            "   macro avg       0.97      0.85      0.90     11860\n",
            "weighted avg       0.97      0.97      0.97     11860\n",
            "\n",
            "오차행렬:\n",
            " [[  666   281]\n",
            " [   30 10883]]\n",
            "\n",
            "정확도: 0.9738\n",
            "정밀도: 0.9569\n",
            "재현율: 0.7033\n",
            "F1: 0.8107\n"
          ]
        }
      ]
    },
    {
      "cell_type": "code",
      "source": [
        "x_test = df_test.drop(['is_converted', 'id'], axis=1)\n",
        "y_test = df_test['is_converted']\n",
        "y_test_pred = pipeline.predict(x_test.fillna(0))\n",
        "\n",
        "# print(\"Classification Report:\\n\", classification_report(y_test, y_test_pred))\n",
        "print(\"오차행렬:\\n\", confusion_matrix(y_test, y_test_pred, labels=[True, False]))\n",
        "print(\"\\n정확도: {:.4f}\".format(accuracy_score(y_test, y_test_pred)))\n",
        "print(\"정밀도: {:.4f}\".format(precision_score(y_test, y_test_pred), labels=[True, False]))\n",
        "print(\"재현율: {:.4f}\".format(recall_score(y_test, y_test_pred)))\n",
        "print(\"F1: {:.4f}\".format(f1_score(y_test, y_test_pred), labels=[True, False]))\n"
      ],
      "metadata": {
        "colab": {
          "base_uri": "https://localhost:8080/"
        },
        "id": "fWeqjRFGql6N",
        "outputId": "5894528b-8ab4-4a00-aca0-3be043f971ae"
      },
      "execution_count": null,
      "outputs": [
        {
          "output_type": "stream",
          "name": "stdout",
          "text": [
            "오차행렬:\n",
            " [[ 103 1138]\n",
            " [  28 4002]]\n",
            "\n",
            "정확도: 0.7788\n",
            "정밀도: 0.7863\n",
            "재현율: 0.0830\n",
            "F1: 0.1501\n"
          ]
        }
      ]
    }
  ],
  "metadata": {
    "colab": {
      "provenance": []
    },
    "kernelspec": {
      "display_name": "Python 3",
      "name": "python3"
    },
    "language_info": {
      "name": "python"
    }
  },
  "nbformat": 4,
  "nbformat_minor": 0
}