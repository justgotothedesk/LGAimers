{
 "cells": [
  {
   "cell_type": "code",
   "execution_count": 2,
   "id": "292014d4",
   "metadata": {},
   "outputs": [
    {
     "name": "stdout",
     "output_type": "stream",
     "text": [
      "Defaulting to user installation because normal site-packages is not writeable\n",
      "Collecting xgboost\n",
      "  Downloading xgboost-2.0.3-py3-none-manylinux2014_x86_64.whl (297.1 MB)\n",
      "\u001b[2K     \u001b[90m━━━━━━━━━━━━━━━━━━━━━━━━━━━━━━━━━━━━━━━\u001b[0m \u001b[32m297.1/297.1 MB\u001b[0m \u001b[31m6.0 MB/s\u001b[0m eta \u001b[36m0:00:00\u001b[0m00:01\u001b[0m00:01\u001b[0m\n",
      "\u001b[?25hRequirement already satisfied: scipy in ./.local/lib/python3.10/site-packages (from xgboost) (1.11.4)\n",
      "Requirement already satisfied: numpy in ./.local/lib/python3.10/site-packages (from xgboost) (1.23.5)\n",
      "Installing collected packages: xgboost\n",
      "Successfully installed xgboost-2.0.3\n",
      "\n",
      "\u001b[1m[\u001b[0m\u001b[34;49mnotice\u001b[0m\u001b[1;39;49m]\u001b[0m\u001b[39;49m A new release of pip is available: \u001b[0m\u001b[31;49m23.0.1\u001b[0m\u001b[39;49m -> \u001b[0m\u001b[32;49m24.0\u001b[0m\n",
      "\u001b[1m[\u001b[0m\u001b[34;49mnotice\u001b[0m\u001b[1;39;49m]\u001b[0m\u001b[39;49m To update, run: \u001b[0m\u001b[32;49mpip install --upgrade pip\u001b[0m\n"
     ]
    }
   ],
   "source": [
    "!pip install xgboost\n",
    "import pandas as pd\n",
    "import numpy as np\n",
    "from sklearn.model_selection import train_test_split\n",
    "from sklearn.compose import ColumnTransformer\n",
    "from sklearn.pipeline import Pipeline\n",
    "from sklearn.impute import SimpleImputer\n",
    "from sklearn.preprocessing import StandardScaler, OneHotEncoder\n",
    "from sklearn.ensemble import VotingClassifier\n",
    "from sklearn.tree import DecisionTreeClassifier\n",
    "from xgboost import XGBClassifier\n",
    "from sklearn.ensemble import GradientBoostingClassifier\n",
    "from sklearn.metrics import ( accuracy_score, confusion_matrix, f1_score, precision_score, recall_score, classification_report )"
   ]
  },
  {
   "cell_type": "code",
   "execution_count": 3,
   "id": "1fdf1533",
   "metadata": {},
   "outputs": [],
   "source": [
    "df_train = pd.read_csv(\"train.csv\") # 학습용 데이터\n",
    "df_test = pd.read_csv(\"submission.csv\") # 테스트 데이터(제출파일의 데이터)"
   ]
  },
  {
   "cell_type": "code",
   "execution_count": 5,
   "id": "8c9d090c",
   "metadata": {},
   "outputs": [],
   "source": [
    "columns_to_drop = ['com_reg_ver_win_rate', 'customer_idx', 'historical_existing_cnt', 'id_strategic_ver', 'it_strategic_ver', 'idit_strategic_ver', 'product_subcategory', 'product_modelname', 'ver_win_rate_x', 'ver_win_ratio_per_bu']\n",
    "\n",
    "df_train.drop(columns=columns_to_drop, inplace=True)\n",
    "df_test.drop(columns=columns_to_drop, inplace=True)"
   ]
  },
  {
   "cell_type": "code",
   "execution_count": 7,
   "id": "7f9f554c",
   "metadata": {},
   "outputs": [],
   "source": [
    "def label_encoding(series: pd.Series) -> pd.Series:\n",
    "    my_dict = {}\n",
    "\n",
    "    series = series.astype(str)\n",
    "\n",
    "    for idx, value in enumerate(sorted(series.unique())):\n",
    "        my_dict[value] = idx\n",
    "    series = series.map(my_dict)\n",
    "\n",
    "    return series"
   ]
  },
  {
   "cell_type": "code",
   "execution_count": 8,
   "id": "53e7194d",
   "metadata": {},
   "outputs": [],
   "source": [
    "label_columns = [\n",
    "    \"customer_country\",\n",
    "    \"business_subarea\",\n",
    "    \"business_area\",\n",
    "    \"business_unit\",\n",
    "    \"customer_type\",\n",
    "    \"enterprise\",\n",
    "    \"customer_job\",\n",
    "    \"inquiry_type\",\n",
    "    \"product_category\",\n",
    "    \"customer_country.1\",\n",
    "    \"customer_position\",\n",
    "    \"response_corporate\",\n",
    "    \"expected_timeline\",\n",
    "]"
   ]
  },
  {
   "cell_type": "code",
   "execution_count": 9,
   "id": "31c89e31",
   "metadata": {},
   "outputs": [],
   "source": [
    "df_all = pd.concat([df_train[label_columns], df_test[label_columns]])\n",
    "\n",
    "for col in label_columns:\n",
    "    df_all[col] = label_encoding(df_all[col])\n",
    "\n",
    "for col in label_columns:\n",
    "    df_train[col] = df_all.iloc[:len(df_train)][col]\n",
    "    df_test[col] = df_all.iloc[len(df_train):][col]"
   ]
  },
  {
   "cell_type": "code",
   "execution_count": 10,
   "id": "848e9fa1",
   "metadata": {},
   "outputs": [],
   "source": [
    "x_train, x_val, y_train, y_val = train_test_split(\n",
    "    df_train.drop(\"is_converted\", axis=1),\n",
    "    df_train[\"is_converted\"],\n",
    "    test_size=0.2,\n",
    "    shuffle=True,\n",
    "    random_state=400,\n",
    ")"
   ]
  },
  {
   "cell_type": "code",
   "execution_count": 11,
   "id": "88044841",
   "metadata": {},
   "outputs": [],
   "source": [
    "x_train['expected_timeline'] = x_train['expected_timeline'].fillna('nan').apply(lambda x: str(x).split()[0].lower())\n",
    "\n",
    "x_train['customer_country'].fillna(pd.Series(np.random.choice(['United States', 'India'], p=[0.5, 0.5], size=len(x_train))), inplace=True)\n",
    "x_train['customer_type'].fillna(pd.Series(np.random.choice(['Specifier/Influencer', 'Unknown'], p=[0.3, 0.7], size=len(x_train))), inplace=True)\n",
    "x_train['customer_job'].fillna('Unknown', inplace=True)\n",
    "x_train['inquiry_type'].fillna('request for partnership', inplace=True)\n",
    "x_train['product_category'].fillna(pd.Series(np.random.choice(['interactive digital board', 'Unknown'], p=[0.5, 0.5], size=len(x_train))), inplace=True)\n",
    "\n",
    "numeric_features = x_train.select_dtypes(include=['int64', 'float64']).columns\n",
    "categorical_features = x_train.select_dtypes(include=['object']).columns\n",
    "\n",
    "numeric_transformer = Pipeline(steps=[\n",
    "    ('imputer', SimpleImputer(strategy='mean')),\n",
    "    ('scaler', StandardScaler())\n",
    "])\n",
    "\n",
    "categorical_transformer = Pipeline(steps=[\n",
    "    ('imputer', SimpleImputer(strategy='most_frequent')),\n",
    "    ('onehot', OneHotEncoder(handle_unknown='ignore'))\n",
    "])\n",
    "\n",
    "preprocessor = ColumnTransformer(\n",
    "    transformers=[\n",
    "        ('num', numeric_transformer, numeric_features),\n",
    "        ('cat', categorical_transformer, categorical_features)\n",
    "    ])\n"
   ]
  },
  {
   "cell_type": "code",
   "execution_count": 12,
   "id": "f8e77a95",
   "metadata": {},
   "outputs": [],
   "source": [
    "tree_model = DecisionTreeClassifier(random_state=400)\n",
    "xgb_model = XGBClassifier(random_state=400)\n",
    "gb_model = GradientBoostingClassifier(random_state=400)"
   ]
  },
  {
   "cell_type": "code",
   "execution_count": 28,
   "id": "1e330751",
   "metadata": {},
   "outputs": [],
   "source": [
    "model = VotingClassifier(estimators=[\n",
    "    ('decision_tree', tree_model),\n",
    "    ('xgboost', xgb_model),\n",
    "    ('gradient_boosting', gb_model)\n",
    "], voting='soft') # or hard\n",
    "\n",
    "pipeline = Pipeline(steps=[('preprocessor', preprocessor),\n",
    "                                   ('classifier', model)])\n",
    "\n",
    "pipeline.fit(x_train, y_train)\n",
    "\n",
    "y_val_pred = pipeline.predict(x_val)"
   ]
  },
  {
   "cell_type": "code",
   "execution_count": 29,
   "id": "7f58d6a5",
   "metadata": {},
   "outputs": [
    {
     "name": "stdout",
     "output_type": "stream",
     "text": [
      "Classification Report:\n",
      "               precision    recall  f1-score   support\n",
      "\n",
      "       False       0.95      0.99      0.97     10913\n",
      "        True       0.74      0.46      0.57       947\n",
      "\n",
      "    accuracy                           0.94     11860\n",
      "   macro avg       0.85      0.72      0.77     11860\n",
      "weighted avg       0.94      0.94      0.94     11860\n",
      "\n",
      "오차행렬:\n",
      " [[  438   509]\n",
      " [  156 10757]]\n",
      "\n",
      "정확도: 0.9439\n",
      "정밀도: 0.7374\n",
      "재현율: 0.4625\n",
      "F1: 0.5685\n"
     ]
    }
   ],
   "source": [
    "print(\"Classification Report:\\n\", classification_report(y_val, y_val_pred))\n",
    "print(\"오차행렬:\\n\", confusion_matrix(y_val, y_val_pred, labels=[True, False]))\n",
    "print(\"\\n정확도: {:.4f}\".format(accuracy_score(y_val, y_val_pred)))\n",
    "print(\"정밀도: {:.4f}\".format(precision_score(y_val, y_val_pred, labels=[True, False])))\n",
    "print(\"재현율: {:.4f}\".format(recall_score(y_val, y_val_pred)))\n",
    "print(\"F1: {:.4f}\".format(f1_score(y_val, y_val_pred, labels=[True, False])))"
   ]
  },
  {
   "cell_type": "code",
   "execution_count": 30,
   "id": "f80a0c62",
   "metadata": {},
   "outputs": [],
   "source": [
    "x_test = df_test.drop([\"is_converted\", \"id\"], axis=1)"
   ]
  },
  {
   "cell_type": "code",
   "execution_count": 31,
   "id": "537fa385",
   "metadata": {},
   "outputs": [],
   "source": [
    "x_test['expected_timeline'] = x_test['expected_timeline'].fillna('nan').apply(lambda x: str(x).split()[0].lower())\n",
    "\n",
    "x_test['customer_country'].fillna(pd.Series(np.random.choice(['United States', 'India'], p=[0.5, 0.5], size=len(x_test))), inplace=True)\n",
    "x_test['customer_type'].fillna(pd.Series(np.random.choice(['Specifier/Influencer', 'Unknown'], p=[0.3, 0.7], size=len(x_test))), inplace=True)\n",
    "x_test['customer_job'].fillna('Unknown', inplace=True)\n",
    "x_test['inquiry_type'].fillna('request for partnership', inplace=True)\n",
    "x_test['product_category'].fillna(pd.Series(np.random.choice(['interactive digital board', 'Unknown'], p=[0.5, 0.5], size=len(x_test))), inplace=True)"
   ]
  },
  {
   "cell_type": "code",
   "execution_count": 32,
   "id": "203a49ab",
   "metadata": {},
   "outputs": [
    {
     "data": {
      "text/plain": [
       "465"
      ]
     },
     "execution_count": 32,
     "metadata": {},
     "output_type": "execute_result"
    }
   ],
   "source": [
    "test_pred = pipeline.predict(x_test)\n",
    "sum(test_pred) # True로 예측된 개수"
   ]
  },
  {
   "cell_type": "code",
   "execution_count": 33,
   "id": "17d78842",
   "metadata": {},
   "outputs": [],
   "source": [
    "df_sub = pd.read_csv(\"submission.csv\")\n",
    "df_sub[\"is_converted\"] = test_pred\n",
    "\n",
    "# 제출 파일 저장\n",
    "df_sub.to_csv(\"submission.csv\", index=False)\n"
   ]
  }
 ],
 "metadata": {
  "kernelspec": {
   "display_name": "Python 3 (ipykernel)",
   "language": "python",
   "name": "python3"
  },
  "language_info": {
   "codemirror_mode": {
    "name": "ipython",
    "version": 3
   },
   "file_extension": ".py",
   "mimetype": "text/x-python",
   "name": "python",
   "nbconvert_exporter": "python",
   "pygments_lexer": "ipython3",
   "version": "3.10.13"
  }
 },
 "nbformat": 4,
 "nbformat_minor": 5
}
